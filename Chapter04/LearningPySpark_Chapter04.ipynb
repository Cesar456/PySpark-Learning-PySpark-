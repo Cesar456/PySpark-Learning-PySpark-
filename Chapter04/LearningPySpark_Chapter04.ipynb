{
 "cells": [
  {
   "cell_type": "markdown",
   "metadata": {},
   "source": [
    "# Prepare and understand data for modeling"
   ]
  },
  {
   "cell_type": "markdown",
   "metadata": {},
   "source": [
    "### Duplicates\n",
    "\n",
    "Consider the following example."
   ]
  },
  {
   "cell_type": "code",
   "execution_count": 1,
   "metadata": {
    "collapsed": false
   },
   "outputs": [],
   "source": [
    "from pyspark.sql import SparkSession\n",
    "spark= SparkSession\\\n",
    "                .builder \\\n",
    "                .appName(\"datamodel\") \\\n",
    "                .getOrCreate()\n",
    "df = spark.createDataFrame([\n",
    "        (1, 144.5, 5.9, 33, 'M'),\n",
    "        (2, 167.2, 5.4, 45, 'M'),\n",
    "        (3, 124.1, 5.2, 23, 'F'),\n",
    "        (4, 144.5, 5.9, 33, 'M'),\n",
    "        (5, 133.2, 5.7, 54, 'F'),\n",
    "        (3, 124.1, 5.2, 23, 'F'),\n",
    "        (5, 129.2, 5.3, 42, 'M'),\n",
    "    ], ['id', 'weight', 'height', 'age', 'gender'])"
   ]
  },
  {
   "cell_type": "markdown",
   "metadata": {},
   "source": [
    "Check for duplicates."
   ]
  },
  {
   "cell_type": "code",
   "execution_count": 2,
   "metadata": {
    "collapsed": false
   },
   "outputs": [
    {
     "name": "stdout",
     "output_type": "stream",
     "text": [
      "Count of rows: 7\n",
      "Count of distinct rows: 6\n"
     ]
    }
   ],
   "source": [
    "print('Count of rows: {0}'.format(df.count()))\n",
    "print('Count of distinct rows: {0}'.format(df.distinct().count()))"
   ]
  },
  {
   "cell_type": "markdown",
   "metadata": {},
   "source": [
    "If these two numbers differ - you have rows that are exact copies of each other. We can drop these rows by using the `.dropDuplicates(...)` method."
   ]
  },
  {
   "cell_type": "code",
   "execution_count": 7,
   "metadata": {
    "collapsed": false
   },
   "outputs": [
    {
     "name": "stdout",
     "output_type": "stream",
     "text": [
      "+---+------+------+---+------+\n",
      "| id|weight|height|age|gender|\n",
      "+---+------+------+---+------+\n",
      "|  5| 133.2|   5.7| 54|     F|\n",
      "|  1| 144.5|   5.9| 33|     M|\n",
      "|  2| 167.2|   5.4| 45|     M|\n",
      "|  3| 124.1|   5.2| 23|     F|\n",
      "|  5| 129.2|   5.3| 42|     M|\n",
      "+---+------+------+---+------+\n",
      "\n"
     ]
    }
   ],
   "source": [
    "df = df.dropDuplicates()\n",
    "df.show()"
   ]
  },
  {
   "cell_type": "markdown",
   "metadata": {},
   "source": [
    "Let's confirm."
   ]
  },
  {
   "cell_type": "code",
   "execution_count": 8,
   "metadata": {
    "collapsed": false
   },
   "outputs": [
    {
     "name": "stdout",
     "output_type": "stream",
     "text": [
      "Count of ids: 5\n",
      "Count of distinct ids: 5\n"
     ]
    }
   ],
   "source": [
    "print('Count of ids: {0}'.format(df.count()))\n",
    "print('Count of distinct ids: {0}'.format(df.select([c for c in df.columns if c != 'id']).distinct().count()))"
   ]
  },
  {
   "cell_type": "markdown",
   "metadata": {},
   "source": [
    "We still have one more duplicate. We will use the `.dropDuplicates(...)` but add the `subset` parameter."
   ]
  },
  {
   "cell_type": "code",
   "execution_count": 9,
   "metadata": {
    "collapsed": false
   },
   "outputs": [
    {
     "name": "stdout",
     "output_type": "stream",
     "text": [
      "+---+------+------+---+------+\n",
      "| id|weight|height|age|gender|\n",
      "+---+------+------+---+------+\n",
      "|  5| 133.2|   5.7| 54|     F|\n",
      "|  1| 144.5|   5.9| 33|     M|\n",
      "|  2| 167.2|   5.4| 45|     M|\n",
      "|  3| 124.1|   5.2| 23|     F|\n",
      "|  5| 129.2|   5.3| 42|     M|\n",
      "+---+------+------+---+------+\n",
      "\n"
     ]
    }
   ],
   "source": [
    "df = df.dropDuplicates(subset=[c for c in df.columns if c != 'id'])\n",
    "df.show()"
   ]
  },
  {
   "cell_type": "markdown",
   "metadata": {},
   "source": [
    "To calculate the total and distinct number of IDs in one step we can use the `.agg(...)` method."
   ]
  },
  {
   "cell_type": "code",
   "execution_count": 10,
   "metadata": {
    "collapsed": false
   },
   "outputs": [
    {
     "name": "stdout",
     "output_type": "stream",
     "text": [
      "+-----+--------+\n",
      "|count|distinct|\n",
      "+-----+--------+\n",
      "|    5|       4|\n",
      "+-----+--------+\n",
      "\n"
     ]
    }
   ],
   "source": [
    "import pyspark.sql.functions as fn\n",
    "\n",
    "df.agg(\n",
    "    fn.count('id').alias('count'),\n",
    "    fn.countDistinct('id').alias('distinct')\n",
    ").show()"
   ]
  },
  {
   "cell_type": "markdown",
   "metadata": {},
   "source": [
    "Give each row a unique ID. "
   ]
  },
  {
   "cell_type": "code",
   "execution_count": 11,
   "metadata": {
    "collapsed": false
   },
   "outputs": [
    {
     "name": "stdout",
     "output_type": "stream",
     "text": [
      "+---+------+------+---+------+-------------+\n",
      "| id|weight|height|age|gender|       new_id|\n",
      "+---+------+------+---+------+-------------+\n",
      "|  5| 133.2|   5.7| 54|     F|  25769803776|\n",
      "|  1| 144.5|   5.9| 33|     M| 171798691840|\n",
      "|  2| 167.2|   5.4| 45|     M| 592705486848|\n",
      "|  3| 124.1|   5.2| 23|     F|1236950581248|\n",
      "|  5| 129.2|   5.3| 42|     M|1365799600128|\n",
      "+---+------+------+---+------+-------------+\n",
      "\n"
     ]
    }
   ],
   "source": [
    "df.withColumn('new_id', fn.monotonically_increasing_id()).show()"
   ]
  },
  {
   "cell_type": "markdown",
   "metadata": {},
   "source": [
    "### Missing observations\n",
    "\n",
    "Consider a similar example to the one we presented above."
   ]
  },
  {
   "cell_type": "code",
   "execution_count": 12,
   "metadata": {
    "collapsed": true
   },
   "outputs": [],
   "source": [
    "df_miss = spark.createDataFrame([\n",
    "        (1, 143.5, 5.6, 28,   'M',  100000),\n",
    "        (2, 167.2, 5.4, 45,   'M',  None),\n",
    "        (3, None , 5.2, None, None, None),\n",
    "        (4, 144.5, 5.9, 33,   'M',  None),\n",
    "        (5, 133.2, 5.7, 54,   'F',  None),\n",
    "        (6, 124.1, 5.2, None, 'F',  None),\n",
    "        (7, 129.2, 5.3, 42,   'M',  76000),\n",
    "    ], ['id', 'weight', 'height', 'age', 'gender', 'income'])"
   ]
  },
  {
   "cell_type": "markdown",
   "metadata": {},
   "source": [
    "To find the number of missing observations per row we can use the following snippet."
   ]
  },
  {
   "cell_type": "code",
   "execution_count": 13,
   "metadata": {
    "collapsed": false
   },
   "outputs": [
    {
     "data": {
      "text/plain": [
       "[(1, 0), (2, 1), (3, 4), (4, 1), (5, 1), (6, 2), (7, 0)]"
      ]
     },
     "execution_count": 13,
     "metadata": {},
     "output_type": "execute_result"
    }
   ],
   "source": [
    "df_miss.rdd.map(\n",
    "    lambda row: (row['id'], sum([c == None for c in row]))\n",
    ").collect()"
   ]
  },
  {
   "cell_type": "markdown",
   "metadata": {},
   "source": [
    "Let's see what values are missing so when we count missing observations in columns we can decide whether to drop the observation altogether or impute some of the observations."
   ]
  },
  {
   "cell_type": "code",
   "execution_count": 14,
   "metadata": {
    "collapsed": false
   },
   "outputs": [
    {
     "name": "stdout",
     "output_type": "stream",
     "text": [
      "+---+------+------+----+------+------+\n",
      "| id|weight|height| age|gender|income|\n",
      "+---+------+------+----+------+------+\n",
      "|  3|  null|   5.2|null|  null|  null|\n",
      "+---+------+------+----+------+------+\n",
      "\n"
     ]
    }
   ],
   "source": [
    "df_miss.where('id == 3').show()"
   ]
  },
  {
   "cell_type": "markdown",
   "metadata": {},
   "source": [
    "What is the percentage of missing observations we see in each column?"
   ]
  },
  {
   "cell_type": "code",
   "execution_count": 15,
   "metadata": {
    "collapsed": false
   },
   "outputs": [
    {
     "name": "stdout",
     "output_type": "stream",
     "text": [
      "+----------+------------------+--------------+------------------+------------------+------------------+\n",
      "|id_missing|    weight_missing|height_missing|       age_missing|    gender_missing|    income_missing|\n",
      "+----------+------------------+--------------+------------------+------------------+------------------+\n",
      "|       0.0|0.1428571428571429|           0.0|0.2857142857142857|0.1428571428571429|0.7142857142857143|\n",
      "+----------+------------------+--------------+------------------+------------------+------------------+\n",
      "\n"
     ]
    }
   ],
   "source": [
    "df_miss.agg(*[\n",
    "    (1 - (fn.count(c) / fn.count('*'))).alias(c + '_missing')\n",
    "    for c in df_miss.columns\n",
    "]).show()"
   ]
  },
  {
   "cell_type": "markdown",
   "metadata": {},
   "source": [
    "We will drop the `'income'` feature as most of its values are missing."
   ]
  },
  {
   "cell_type": "code",
   "execution_count": 16,
   "metadata": {
    "collapsed": false
   },
   "outputs": [
    {
     "name": "stdout",
     "output_type": "stream",
     "text": [
      "+---+------+------+----+------+\n",
      "| id|weight|height| age|gender|\n",
      "+---+------+------+----+------+\n",
      "|  1| 143.5|   5.6|  28|     M|\n",
      "|  2| 167.2|   5.4|  45|     M|\n",
      "|  3|  null|   5.2|null|  null|\n",
      "|  4| 144.5|   5.9|  33|     M|\n",
      "|  5| 133.2|   5.7|  54|     F|\n",
      "|  6| 124.1|   5.2|null|     F|\n",
      "|  7| 129.2|   5.3|  42|     M|\n",
      "+---+------+------+----+------+\n",
      "\n"
     ]
    }
   ],
   "source": [
    "df_miss_no_income = df_miss.select([c for c in df_miss.columns if c != 'income'])\n",
    "df_miss_no_income.show()"
   ]
  },
  {
   "cell_type": "markdown",
   "metadata": {},
   "source": [
    "To drop the observations instead you can use the `.dropna(...)` method."
   ]
  },
  {
   "cell_type": "code",
   "execution_count": 17,
   "metadata": {
    "collapsed": false
   },
   "outputs": [
    {
     "name": "stdout",
     "output_type": "stream",
     "text": [
      "+---+------+------+----+------+\n",
      "| id|weight|height| age|gender|\n",
      "+---+------+------+----+------+\n",
      "|  1| 143.5|   5.6|  28|     M|\n",
      "|  2| 167.2|   5.4|  45|     M|\n",
      "|  4| 144.5|   5.9|  33|     M|\n",
      "|  5| 133.2|   5.7|  54|     F|\n",
      "|  6| 124.1|   5.2|null|     F|\n",
      "|  7| 129.2|   5.3|  42|     M|\n",
      "+---+------+------+----+------+\n",
      "\n"
     ]
    }
   ],
   "source": [
    "df_miss_no_income.dropna(thresh=3).show()"
   ]
  },
  {
   "cell_type": "markdown",
   "metadata": {},
   "source": [
    "To impute a mean, median or other *calculated* value you need to first calculate the value, create a dict with such values, and then pass it to the `.fillna(...)` method."
   ]
  },
  {
   "cell_type": "code",
   "execution_count": 18,
   "metadata": {
    "collapsed": false
   },
   "outputs": [
    {
     "name": "stdout",
     "output_type": "stream",
     "text": [
      "+---+------------------+------+---+-------+\n",
      "| id|            weight|height|age| gender|\n",
      "+---+------------------+------+---+-------+\n",
      "|  1|             143.5|   5.6| 28|      M|\n",
      "|  2|             167.2|   5.4| 45|      M|\n",
      "|  3|140.28333333333333|   5.2| 40|missing|\n",
      "|  4|             144.5|   5.9| 33|      M|\n",
      "|  5|             133.2|   5.7| 54|      F|\n",
      "|  6|             124.1|   5.2| 40|      F|\n",
      "|  7|             129.2|   5.3| 42|      M|\n",
      "+---+------------------+------+---+-------+\n",
      "\n"
     ]
    }
   ],
   "source": [
    "means = df_miss_no_income.agg(\n",
    "    *[fn.mean(c).alias(c) for c in df_miss_no_income.columns if c != 'gender']\n",
    ").toPandas().to_dict('records')[0]\n",
    "\n",
    "means['gender'] = 'missing'\n",
    "\n",
    "df_miss_no_income.fillna(means).show()"
   ]
  },
  {
   "cell_type": "markdown",
   "metadata": {},
   "source": [
    "### Outliers\n",
    "\n",
    "Consider another simple example."
   ]
  },
  {
   "cell_type": "code",
   "execution_count": 19,
   "metadata": {
    "collapsed": false
   },
   "outputs": [],
   "source": [
    "df_outliers = spark.createDataFrame([\n",
    "        (1, 143.5, 5.3, 28),\n",
    "        (2, 154.2, 5.5, 45),\n",
    "        (3, 342.3, 5.1, 99),\n",
    "        (4, 144.5, 5.5, 33),\n",
    "        (5, 133.2, 5.4, 54),\n",
    "        (6, 124.1, 5.1, 21),\n",
    "        (7, 129.2, 5.3, 42),\n",
    "    ], ['id', 'weight', 'height', 'age'])"
   ]
  },
  {
   "cell_type": "markdown",
   "metadata": {},
   "source": [
    "First, we calculate the lower and upper *cut off* points for each feature."
   ]
  },
  {
   "cell_type": "code",
   "execution_count": 20,
   "metadata": {
    "collapsed": false
   },
   "outputs": [],
   "source": [
    "cols = ['weight', 'height', 'age']\n",
    "bounds = {}\n",
    "\n",
    "for col in cols:\n",
    "    quantiles = df_outliers.approxQuantile(col, [0.25, 0.75], 0.05)\n",
    "    IQR = quantiles[1] - quantiles[0]\n",
    "    bounds[col] = [quantiles[0] - 1.5 * IQR, quantiles[1] + 1.5 * IQR]"
   ]
  },
  {
   "cell_type": "markdown",
   "metadata": {},
   "source": [
    "The `bounds` dictionary holds the lower and upper bounds for each feature. "
   ]
  },
  {
   "cell_type": "code",
   "execution_count": 21,
   "metadata": {
    "collapsed": false
   },
   "outputs": [
    {
     "data": {
      "text/plain": [
       "{'age': [-11.0, 93.0],\n",
       " 'height': [4.499999999999999, 6.1000000000000005],\n",
       " 'weight': [91.69999999999999, 191.7]}"
      ]
     },
     "execution_count": 21,
     "metadata": {},
     "output_type": "execute_result"
    }
   ],
   "source": [
    "bounds"
   ]
  },
  {
   "cell_type": "markdown",
   "metadata": {},
   "source": [
    "Let's now use it to flag our outliers."
   ]
  },
  {
   "cell_type": "code",
   "execution_count": 22,
   "metadata": {
    "collapsed": false
   },
   "outputs": [
    {
     "name": "stdout",
     "output_type": "stream",
     "text": [
      "+---+--------+--------+-----+\n",
      "| id|weight_o|height_o|age_o|\n",
      "+---+--------+--------+-----+\n",
      "|  1|   false|   false|false|\n",
      "|  2|   false|   false|false|\n",
      "|  3|    true|   false| true|\n",
      "|  4|   false|   false|false|\n",
      "|  5|   false|   false|false|\n",
      "|  6|   false|   false|false|\n",
      "|  7|   false|   false|false|\n",
      "+---+--------+--------+-----+\n",
      "\n"
     ]
    }
   ],
   "source": [
    "outliers = df_outliers.select(*['id'] + [\n",
    "    (\n",
    "        (df_outliers[c] < bounds[c][0]) | \n",
    "        (df_outliers[c] > bounds[c][1])\n",
    "    ).alias(c + '_o') for c in cols\n",
    "])\n",
    "outliers.show()"
   ]
  },
  {
   "cell_type": "markdown",
   "metadata": {},
   "source": [
    "We have two outliers in the `weight` feature and two in the `age` feature."
   ]
  },
  {
   "cell_type": "code",
   "execution_count": 23,
   "metadata": {
    "collapsed": false
   },
   "outputs": [
    {
     "name": "stdout",
     "output_type": "stream",
     "text": [
      "+---+------+\n",
      "| id|weight|\n",
      "+---+------+\n",
      "|  3| 342.3|\n",
      "+---+------+\n",
      "\n",
      "+---+---+\n",
      "| id|age|\n",
      "+---+---+\n",
      "|  3| 99|\n",
      "+---+---+\n",
      "\n"
     ]
    }
   ],
   "source": [
    "df_outliers = df_outliers.join(outliers, on='id')\n",
    "df_outliers.filter('weight_o').select('id', 'weight').show()\n",
    "df_outliers.filter('age_o').select('id', 'age').show()"
   ]
  },
  {
   "cell_type": "markdown",
   "metadata": {},
   "source": [
    "## Understand your data\n",
    "\n",
    "### Descriptive statistics"
   ]
  },
  {
   "cell_type": "markdown",
   "metadata": {},
   "source": [
    "Load our data and convert it to a Spark DataFrame."
   ]
  },
  {
   "cell_type": "markdown",
   "metadata": {},
   "source": [
    "Next, we read the data in.\n",
    "get data from: https://packages.revolutionanalytics.com/datasets/"
   ]
  },
  {
   "cell_type": "code",
   "execution_count": 150,
   "metadata": {
    "collapsed": false
   },
   "outputs": [],
   "source": [
    "fraud = spark.read.csv('ccFraud.csv', sep=',', encoding='utf-8', header='true')\n",
    "header = fraud.columns\n",
    "fraud_df = fraud.rdd.map(lambda row: [int(elem) for elem in row])"
   ]
  },
  {
   "cell_type": "code",
   "execution_count": 168,
   "metadata": {
    "collapsed": false
   },
   "outputs": [
    {
     "data": {
      "text/plain": [
       "[[1, 1, 35, 1, 3000, 4, 14, 2, 0],\n",
       " [2, 2, 2, 1, 0, 9, 0, 18, 0],\n",
       " [3, 2, 2, 1, 0, 27, 9, 16, 0]]"
      ]
     },
     "execution_count": 168,
     "metadata": {},
     "output_type": "execute_result"
    }
   ],
   "source": [
    "fraud_df.take(3)"
   ]
  },
  {
   "cell_type": "code",
   "execution_count": 169,
   "metadata": {
    "collapsed": false
   },
   "outputs": [],
   "source": [
    "import pyspark.sql.types as typ\n",
    "fields = [\n",
    "    *[\n",
    "        typ.StructField(h, typ.IntegerType(), True)\n",
    "        for h in header\n",
    "    ]\n",
    "]\n",
    "schema = typ.StructType(fields)"
   ]
  },
  {
   "cell_type": "code",
   "execution_count": 164,
   "metadata": {
    "collapsed": false
   },
   "outputs": [
    {
     "data": {
      "text/plain": [
       "['custID',\n",
       " 'gender',\n",
       " 'state',\n",
       " 'cardholder',\n",
       " 'balance',\n",
       " 'numTrans',\n",
       " 'numIntlTrans',\n",
       " 'creditLine',\n",
       " 'fraudRisk']"
      ]
     },
     "execution_count": 164,
     "metadata": {},
     "output_type": "execute_result"
    }
   ],
   "source": [
    "header"
   ]
  },
  {
   "cell_type": "code",
   "execution_count": 170,
   "metadata": {
    "collapsed": true
   },
   "outputs": [],
   "source": [
    "fraud_pd = spark.createDataFrame(fraud_df, schema)"
   ]
  },
  {
   "cell_type": "code",
   "execution_count": 171,
   "metadata": {
    "collapsed": false
   },
   "outputs": [
    {
     "name": "stdout",
     "output_type": "stream",
     "text": [
      "+------+------+-----+----------+-------+--------+------------+----------+---------+\n",
      "|custID|gender|state|cardholder|balance|numTrans|numIntlTrans|creditLine|fraudRisk|\n",
      "+------+------+-----+----------+-------+--------+------------+----------+---------+\n",
      "|     1|     1|   35|         1|   3000|       4|          14|         2|        0|\n",
      "|     2|     2|    2|         1|      0|       9|           0|        18|        0|\n",
      "|     3|     2|    2|         1|      0|      27|           9|        16|        0|\n",
      "+------+------+-----+----------+-------+--------+------------+----------+---------+\n",
      "only showing top 3 rows\n",
      "\n"
     ]
    }
   ],
   "source": [
    "fraud_pd.show(3)"
   ]
  },
  {
   "cell_type": "markdown",
   "metadata": {},
   "source": [
    "Now that the dataframe is ready we can calculate the basic descriptive statistics for our dataset. "
   ]
  },
  {
   "cell_type": "code",
   "execution_count": 158,
   "metadata": {
    "collapsed": false
   },
   "outputs": [
    {
     "name": "stdout",
     "output_type": "stream",
     "text": [
      "root\n",
      " |-- custID: string (nullable = true)\n",
      " |-- gender: string (nullable = true)\n",
      " |-- state: string (nullable = true)\n",
      " |-- cardholder: string (nullable = true)\n",
      " |-- balance: string (nullable = true)\n",
      " |-- numTrans: string (nullable = true)\n",
      " |-- numIntlTrans: string (nullable = true)\n",
      " |-- creditLine: string (nullable = true)\n",
      " |-- fraudRisk: string (nullable = true)\n",
      "\n"
     ]
    }
   ],
   "source": [
    "fraud.printSchema()"
   ]
  },
  {
   "cell_type": "code",
   "execution_count": 172,
   "metadata": {
    "collapsed": false
   },
   "outputs": [
    {
     "name": "stdout",
     "output_type": "stream",
     "text": [
      "root\n",
      " |-- custID: integer (nullable = true)\n",
      " |-- gender: integer (nullable = true)\n",
      " |-- state: integer (nullable = true)\n",
      " |-- cardholder: integer (nullable = true)\n",
      " |-- balance: integer (nullable = true)\n",
      " |-- numTrans: integer (nullable = true)\n",
      " |-- numIntlTrans: integer (nullable = true)\n",
      " |-- creditLine: integer (nullable = true)\n",
      " |-- fraudRisk: integer (nullable = true)\n",
      "\n"
     ]
    }
   ],
   "source": [
    "fraud_pd.printSchema()"
   ]
  },
  {
   "cell_type": "markdown",
   "metadata": {
    "collapsed": true
   },
   "source": [
    "For categorical columns we will count the frequencies of their values using `.groupby(...)` method."
   ]
  },
  {
   "cell_type": "code",
   "execution_count": 173,
   "metadata": {
    "collapsed": false
   },
   "outputs": [
    {
     "name": "stdout",
     "output_type": "stream",
     "text": [
      "+------+-------+\n",
      "|gender|  count|\n",
      "+------+-------+\n",
      "|     1|6178231|\n",
      "|     2|3821769|\n",
      "+------+-------+\n",
      "\n"
     ]
    }
   ],
   "source": [
    "fraud_pd.groupby('gender').count().show()"
   ]
  },
  {
   "cell_type": "markdown",
   "metadata": {},
   "source": [
    "For the truly numerical features we can use the `.describe()` method."
   ]
  },
  {
   "cell_type": "code",
   "execution_count": 174,
   "metadata": {
    "collapsed": true
   },
   "outputs": [],
   "source": [
    "numerical = ['balance', 'numTrans', 'numIntlTrans']"
   ]
  },
  {
   "cell_type": "code",
   "execution_count": 176,
   "metadata": {
    "collapsed": false
   },
   "outputs": [
    {
     "name": "stdout",
     "output_type": "stream",
     "text": [
      "+-------+------------------+-----------------+-----------------+\n",
      "|summary|           balance|         numTrans|     numIntlTrans|\n",
      "+-------+------------------+-----------------+-----------------+\n",
      "|  count|          10000000|         10000000|         10000000|\n",
      "|   mean|      4109.9199193|       28.9351871|        4.0471899|\n",
      "| stddev|3996.8473097373326|26.55378102452306|8.602970115864057|\n",
      "|    min|                 0|                0|                0|\n",
      "|    max|             41485|              100|               60|\n",
      "+-------+------------------+-----------------+-----------------+\n",
      "\n"
     ]
    }
   ],
   "source": [
    "desc = fraud_pd.describe(numerical)\n",
    "desc.show()"
   ]
  },
  {
   "cell_type": "markdown",
   "metadata": {},
   "source": [
    "Here's how you check skewness (we will do it for the `'balance'` feature only)."
   ]
  },
  {
   "cell_type": "code",
   "execution_count": 177,
   "metadata": {
    "collapsed": false
   },
   "outputs": [
    {
     "name": "stdout",
     "output_type": "stream",
     "text": [
      "+------------------+\n",
      "| skewness(balance)|\n",
      "+------------------+\n",
      "|1.1818315552993002|\n",
      "+------------------+\n",
      "\n"
     ]
    }
   ],
   "source": [
    "fraud_pd.agg({'balance': 'skewness'}).show()"
   ]
  },
  {
   "cell_type": "markdown",
   "metadata": {
    "collapsed": true
   },
   "source": [
    "### Correlations"
   ]
  },
  {
   "cell_type": "markdown",
   "metadata": {
    "collapsed": true
   },
   "source": [
    "Calculating correlations in PySpark is very easy once your data is in a DataFrame form."
   ]
  },
  {
   "cell_type": "code",
   "execution_count": 178,
   "metadata": {
    "collapsed": false
   },
   "outputs": [
    {
     "data": {
      "text/plain": [
       "0.0004452314017265119"
      ]
     },
     "execution_count": 178,
     "metadata": {},
     "output_type": "execute_result"
    }
   ],
   "source": [
    "fraud_pd.corr('balance', 'numTrans')"
   ]
  },
  {
   "cell_type": "markdown",
   "metadata": {},
   "source": [
    "In order to create a correlations matrix you can use the script below."
   ]
  },
  {
   "cell_type": "code",
   "execution_count": 180,
   "metadata": {
    "collapsed": false
   },
   "outputs": [
    {
     "data": {
      "text/plain": [
       "[[1.0, 0.0004452314017265119, 0.00027139913398180066],\n",
       " [None, 1.0, -0.00028057128198162275],\n",
       " [None, None, 1.0]]"
      ]
     },
     "execution_count": 180,
     "metadata": {},
     "output_type": "execute_result"
    }
   ],
   "source": [
    "n_numerical = len(numerical)\n",
    "corr = []\n",
    "for i in range(0, n_numerical):\n",
    "    temp = [None] * i\n",
    "    \n",
    "    for j in range(i, n_numerical):\n",
    "        temp.append(fraud_pd.corr(numerical[i], numerical[j]))\n",
    "    corr.append(temp)  \n",
    "corr"
   ]
  },
  {
   "cell_type": "markdown",
   "metadata": {
    "collapsed": true
   },
   "source": [
    "### Visualization"
   ]
  },
  {
   "cell_type": "markdown",
   "metadata": {
    "collapsed": true
   },
   "source": [
    "First, let's load the modules and set them up."
   ]
  },
  {
   "cell_type": "code",
   "execution_count": 181,
   "metadata": {
    "collapsed": false
   },
   "outputs": [
    {
     "data": {
      "text/html": [
       "\n",
       "    <div class=\"bk-root\">\n",
       "        <a href=\"http://bokeh.pydata.org\" target=\"_blank\" class=\"bk-logo bk-logo-small bk-logo-notebook\"></a>\n",
       "        <span id=\"041b83bf-6226-4c67-80ff-a156cb388855\">Loading BokehJS ...</span>\n",
       "    </div>"
      ]
     },
     "metadata": {},
     "output_type": "display_data"
    },
    {
     "data": {
      "application/javascript": [
       "\n",
       "(function(global) {\n",
       "  function now() {\n",
       "    return new Date();\n",
       "  }\n",
       "\n",
       "  var force = \"1\";\n",
       "\n",
       "  if (typeof (window._bokeh_onload_callbacks) === \"undefined\" || force !== \"\") {\n",
       "    window._bokeh_onload_callbacks = [];\n",
       "    window._bokeh_is_loading = undefined;\n",
       "  }\n",
       "\n",
       "\n",
       "  \n",
       "  if (typeof (window._bokeh_timeout) === \"undefined\" || force !== \"\") {\n",
       "    window._bokeh_timeout = Date.now() + 5000;\n",
       "    window._bokeh_failed_load = false;\n",
       "  }\n",
       "\n",
       "  var NB_LOAD_WARNING = {'data': {'text/html':\n",
       "     \"<div style='background-color: #fdd'>\\n\"+\n",
       "     \"<p>\\n\"+\n",
       "     \"BokehJS does not appear to have successfully loaded. If loading BokehJS from CDN, this \\n\"+\n",
       "     \"may be due to a slow or bad network connection. Possible fixes:\\n\"+\n",
       "     \"</p>\\n\"+\n",
       "     \"<ul>\\n\"+\n",
       "     \"<li>re-rerun `output_notebook()` to attempt to load from CDN again, or</li>\\n\"+\n",
       "     \"<li>use INLINE resources instead, as so:</li>\\n\"+\n",
       "     \"</ul>\\n\"+\n",
       "     \"<code>\\n\"+\n",
       "     \"from bokeh.resources import INLINE\\n\"+\n",
       "     \"output_notebook(resources=INLINE)\\n\"+\n",
       "     \"</code>\\n\"+\n",
       "     \"</div>\"}};\n",
       "\n",
       "  function display_loaded() {\n",
       "    if (window.Bokeh !== undefined) {\n",
       "      Bokeh.$(\"#041b83bf-6226-4c67-80ff-a156cb388855\").text(\"BokehJS successfully loaded.\");\n",
       "    } else if (Date.now() < window._bokeh_timeout) {\n",
       "      setTimeout(display_loaded, 100)\n",
       "    }\n",
       "  }\n",
       "\n",
       "  function run_callbacks() {\n",
       "    window._bokeh_onload_callbacks.forEach(function(callback) { callback() });\n",
       "    delete window._bokeh_onload_callbacks\n",
       "    console.info(\"Bokeh: all callbacks have finished\");\n",
       "  }\n",
       "\n",
       "  function load_libs(js_urls, callback) {\n",
       "    window._bokeh_onload_callbacks.push(callback);\n",
       "    if (window._bokeh_is_loading > 0) {\n",
       "      console.log(\"Bokeh: BokehJS is being loaded, scheduling callback at\", now());\n",
       "      return null;\n",
       "    }\n",
       "    if (js_urls == null || js_urls.length === 0) {\n",
       "      run_callbacks();\n",
       "      return null;\n",
       "    }\n",
       "    console.log(\"Bokeh: BokehJS not loaded, scheduling load and callback at\", now());\n",
       "    window._bokeh_is_loading = js_urls.length;\n",
       "    for (var i = 0; i < js_urls.length; i++) {\n",
       "      var url = js_urls[i];\n",
       "      var s = document.createElement('script');\n",
       "      s.src = url;\n",
       "      s.async = false;\n",
       "      s.onreadystatechange = s.onload = function() {\n",
       "        window._bokeh_is_loading--;\n",
       "        if (window._bokeh_is_loading === 0) {\n",
       "          console.log(\"Bokeh: all BokehJS libraries loaded\");\n",
       "          run_callbacks()\n",
       "        }\n",
       "      };\n",
       "      s.onerror = function() {\n",
       "        console.warn(\"failed to load library \" + url);\n",
       "      };\n",
       "      console.log(\"Bokeh: injecting script tag for BokehJS library: \", url);\n",
       "      document.getElementsByTagName(\"head\")[0].appendChild(s);\n",
       "    }\n",
       "  };var element = document.getElementById(\"041b83bf-6226-4c67-80ff-a156cb388855\");\n",
       "  if (element == null) {\n",
       "    console.log(\"Bokeh: ERROR: autoload.js configured with elementid '041b83bf-6226-4c67-80ff-a156cb388855' but no matching script tag was found. \")\n",
       "    return false;\n",
       "  }\n",
       "\n",
       "  var js_urls = ['https://cdn.pydata.org/bokeh/release/bokeh-0.12.2.min.js', 'https://cdn.pydata.org/bokeh/release/bokeh-widgets-0.12.2.min.js', 'https://cdn.pydata.org/bokeh/release/bokeh-compiler-0.12.2.min.js'];\n",
       "\n",
       "  var inline_js = [\n",
       "    function(Bokeh) {\n",
       "      Bokeh.set_log_level(\"info\");\n",
       "    },\n",
       "    \n",
       "    function(Bokeh) {\n",
       "      \n",
       "      Bokeh.$(\"#041b83bf-6226-4c67-80ff-a156cb388855\").text(\"BokehJS is loading...\");\n",
       "    },\n",
       "    function(Bokeh) {\n",
       "      console.log(\"Bokeh: injecting CSS: https://cdn.pydata.org/bokeh/release/bokeh-0.12.2.min.css\");\n",
       "      Bokeh.embed.inject_css(\"https://cdn.pydata.org/bokeh/release/bokeh-0.12.2.min.css\");\n",
       "      console.log(\"Bokeh: injecting CSS: https://cdn.pydata.org/bokeh/release/bokeh-widgets-0.12.2.min.css\");\n",
       "      Bokeh.embed.inject_css(\"https://cdn.pydata.org/bokeh/release/bokeh-widgets-0.12.2.min.css\");\n",
       "    }\n",
       "  ];\n",
       "\n",
       "  function run_inline_js() {\n",
       "    \n",
       "    if ((window.Bokeh !== undefined) || (force === \"1\")) {\n",
       "      for (var i = 0; i < inline_js.length; i++) {\n",
       "        inline_js[i](window.Bokeh);\n",
       "      }if (force === \"1\") {\n",
       "        display_loaded();\n",
       "      }} else if (Date.now() < window._bokeh_timeout) {\n",
       "      setTimeout(run_inline_js, 100);\n",
       "    } else if (!window._bokeh_failed_load) {\n",
       "      console.log(\"Bokeh: BokehJS failed to load within specified timeout.\");\n",
       "      window._bokeh_failed_load = true;\n",
       "    } else if (!force) {\n",
       "      var cell = $(\"#041b83bf-6226-4c67-80ff-a156cb388855\").parents('.cell').data().cell;\n",
       "      cell.output_area.append_execute_result(NB_LOAD_WARNING)\n",
       "    }\n",
       "\n",
       "  }\n",
       "\n",
       "  if (window._bokeh_is_loading === 0) {\n",
       "    console.log(\"Bokeh: BokehJS loaded, going straight to plotting\");\n",
       "    run_inline_js();\n",
       "  } else {\n",
       "    load_libs(js_urls, function() {\n",
       "      console.log(\"Bokeh: BokehJS plotting callback run at\", now());\n",
       "      run_inline_js();\n",
       "    });\n",
       "  }\n",
       "}(this));"
      ]
     },
     "metadata": {},
     "output_type": "display_data"
    }
   ],
   "source": [
    "%matplotlib inline\n",
    "import matplotlib.pyplot as plt\n",
    "plt.style.use('ggplot')\n",
    "\n",
    "import bokeh.charts as chrt\n",
    "from bokeh.io import output_notebook\n",
    "\n",
    "output_notebook()"
   ]
  },
  {
   "cell_type": "markdown",
   "metadata": {
    "collapsed": true
   },
   "source": [
    "### Histograms\n",
    "\n",
    "Aggreagate the data in workers and return aggregated list of cut-off points and counts in each bin of the histogram to the driver."
   ]
  },
  {
   "cell_type": "code",
   "execution_count": 182,
   "metadata": {
    "collapsed": false
   },
   "outputs": [],
   "source": [
    "hists = fraud_pd.select('balance').rdd.flatMap(lambda row: row).histogram(20)"
   ]
  },
  {
   "cell_type": "markdown",
   "metadata": {},
   "source": [
    "To plot the histogram you can simply call the matplotlib like below."
   ]
  },
  {
   "cell_type": "code",
   "execution_count": 183,
   "metadata": {
    "collapsed": false
   },
   "outputs": [
    {
     "data": {
      "image/png": "[encoded data removed]",
      "text/plain": [
       "<Figure size 1200x900 with 1 Axes>"
      ]
     },
     "metadata": {},
     "output_type": "display_data"
    }
   ],
   "source": [
    "data = {\n",
    "    'bins': hists[0][:-1],\n",
    "    'freq': hists[1]\n",
    "}\n",
    "\n",
    "fig = plt.figure(figsize=(12,9))\n",
    "ax = fig.add_subplot(1, 1, 1)\n",
    "ax.bar(data['bins'], data['freq'], width=2000)\n",
    "ax.set_title('Histogram of \\'balance\\'')\n",
    "\n",
    "plt.savefig('B05793_05_22.png', dpi=300)"
   ]
  },
  {
   "cell_type": "markdown",
   "metadata": {},
   "source": [
    "In a similar manner, a histogram can be create with Bokeh."
   ]
  },
  {
   "cell_type": "code",
   "execution_count": 184,
   "metadata": {
    "collapsed": false
   },
   "outputs": [
    {
     "data": {
      "text/html": [
       "\n",
       "\n",
       "    <div class=\"bk-root\">\n",
       "        <div class=\"plotdiv\" id=\"63691f26-6b78-4288-af07-b62dff8ddfcd\"></div>\n",
       "    </div>\n",
       "<script type=\"text/javascript\">\n",
       "  \n",
       "  (function(global) {\n",
       "    function now() {\n",
       "      return new Date();\n",
       "    }\n",
       "  \n",
       "    var force = \"\";\n",
       "  \n",
       "    if (typeof (window._bokeh_onload_callbacks) === \"undefined\" || force !== \"\") {\n",
       "      window._bokeh_onload_callbacks = [];\n",
       "      window._bokeh_is_loading = undefined;\n",
       "    }\n",
       "  \n",
       "  \n",
       "    \n",
       "    if (typeof (window._bokeh_timeout) === \"undefined\" || force !== \"\") {\n",
       "      window._bokeh_timeout = Date.now() + 0;\n",
       "      window._bokeh_failed_load = false;\n",
       "    }\n",
       "  \n",
       "    var NB_LOAD_WARNING = {'data': {'text/html':\n",
       "       \"<div style='background-color: #fdd'>\\n\"+\n",
       "       \"<p>\\n\"+\n",
       "       \"BokehJS does not appear to have successfully loaded. If loading BokehJS from CDN, this \\n\"+\n",
       "       \"may be due to a slow or bad network connection. Possible fixes:\\n\"+\n",
       "       \"</p>\\n\"+\n",
       "       \"<ul>\\n\"+\n",
       "       \"<li>re-rerun `output_notebook()` to attempt to load from CDN again, or</li>\\n\"+\n",
       "       \"<li>use INLINE resources instead, as so:</li>\\n\"+\n",
       "       \"</ul>\\n\"+\n",
       "       \"<code>\\n\"+\n",
       "       \"from bokeh.resources import INLINE\\n\"+\n",
       "       \"output_notebook(resources=INLINE)\\n\"+\n",
       "       \"</code>\\n\"+\n",
       "       \"</div>\"}};\n",
       "  \n",
       "    function display_loaded() {\n",
       "      if (window.Bokeh !== undefined) {\n",
       "        Bokeh.$(\"#63691f26-6b78-4288-af07-b62dff8ddfcd\").text(\"BokehJS successfully loaded.\");\n",
       "      } else if (Date.now() < window._bokeh_timeout) {\n",
       "        setTimeout(display_loaded, 100)\n",
       "      }\n",
       "    }\n",
       "  \n",
       "    function run_callbacks() {\n",
       "      window._bokeh_onload_callbacks.forEach(function(callback) { callback() });\n",
       "      delete window._bokeh_onload_callbacks\n",
       "      console.info(\"Bokeh: all callbacks have finished\");\n",
       "    }\n",
       "  \n",
       "    function load_libs(js_urls, callback) {\n",
       "      window._bokeh_onload_callbacks.push(callback);\n",
       "      if (window._bokeh_is_loading > 0) {\n",
       "        console.log(\"Bokeh: BokehJS is being loaded, scheduling callback at\", now());\n",
       "        return null;\n",
       "      }\n",
       "      if (js_urls == null || js_urls.length === 0) {\n",
       "        run_callbacks();\n",
       "        return null;\n",
       "      }\n",
       "      console.log(\"Bokeh: BokehJS not loaded, scheduling load and callback at\", now());\n",
       "      window._bokeh_is_loading = js_urls.length;\n",
       "      for (var i = 0; i < js_urls.length; i++) {\n",
       "        var url = js_urls[i];\n",
       "        var s = document.createElement('script');\n",
       "        s.src = url;\n",
       "        s.async = false;\n",
       "        s.onreadystatechange = s.onload = function() {\n",
       "          window._bokeh_is_loading--;\n",
       "          if (window._bokeh_is_loading === 0) {\n",
       "            console.log(\"Bokeh: all BokehJS libraries loaded\");\n",
       "            run_callbacks()\n",
       "          }\n",
       "        };\n",
       "        s.onerror = function() {\n",
       "          console.warn(\"failed to load library \" + url);\n",
       "        };\n",
       "        console.log(\"Bokeh: injecting script tag for BokehJS library: \", url);\n",
       "        document.getElementsByTagName(\"head\")[0].appendChild(s);\n",
       "      }\n",
       "    };var element = document.getElementById(\"63691f26-6b78-4288-af07-b62dff8ddfcd\");\n",
       "    if (element == null) {\n",
       "      console.log(\"Bokeh: ERROR: autoload.js configured with elementid '63691f26-6b78-4288-af07-b62dff8ddfcd' but no matching script tag was found. \")\n",
       "      return false;\n",
       "    }\n",
       "  \n",
       "    var js_urls = [];\n",
       "  \n",
       "    var inline_js = [\n",
       "      function(Bokeh) {\n",
       "        Bokeh.$(function() {\n",
       "            var docs_json = {\"d98f31c3-db4f-4d89-81ca-882364f9488f\":{\"roots\":{\"references\":[{\"attributes\":{\"data_source\":{\"id\":\"f6b3336e-66ed-469f-8720-b7d900daabf4\",\"type\":\"ColumnDataSource\"},\"glyph\":{\"id\":\"6da7d99b-dadc-4daa-b4d0-0b22b0cbadf4\",\"type\":\"Rect\"},\"hover_glyph\":null,\"nonselection_glyph\":null,\"selection_glyph\":null},\"id\":\"d1d7e357-76d2-4f40-84db-df458780568e\",\"type\":\"GlyphRenderer\"},{\"attributes\":{\"data_source\":{\"id\":\"75847a4a-47b8-4774-9d49-93e9d3cd7376\",\"type\":\"ColumnDataSource\"},\"glyph\":{\"id\":\"ccd919f5-6e13-45c3-b9e5-7eaa2998a9c6\",\"type\":\"Rect\"},\"hover_glyph\":null,\"nonselection_glyph\":null,\"selection_glyph\":null},\"id\":\"fd06184b-bf34-4ca5-ab38-80085e8968fb\",\"type\":\"GlyphRenderer\"},{\"attributes\":{\"data_source\":{\"id\":\"0dac7f86-67a7-4904-ac8e-255b9bfa0f92\",\"type\":\"ColumnDataSource\"},\"glyph\":{\"id\":\"30830913-0782-4408-a7ac-5ba31213bbee\",\"type\":\"Rect\"},\"hover_glyph\":null,\"nonselection_glyph\":null,\"selection_glyph\":null},\"id\":\"3802ca82-6159-474e-9b88-c33e771a0621\",\"type\":\"GlyphRenderer\"},{\"attributes\":{\"callback\":null,\"column_names\":[\"height\",\"x\",\"y\",\"line_alpha\",\"fill_alpha\",\"color\",\"label\",\"width\",\"line_color\"],\"data\":{\"bins\":[10371.25],\"chart_index\":[{\"bins\":10371.25}],\"color\":[\"#f22c40\"],\"fill_alpha\":[0.8],\"height\":[343461.0],\"label\":[{\"bins\":10371.25}],\"line_alpha\":[1.0],\"line_color\":[\"white\"],\"width\":[0.8],\"x\":[\"10371.25\"],\"y\":[171730.5]}},\"id\":\"1914ef9f-8fc6-497c-b334-253312b168f0\",\"type\":\"ColumnDataSource\"},{\"attributes\":{\"callback\":null,\"column_names\":[\"height\",\"x\",\"y\",\"line_alpha\",\"fill_alpha\",\"color\",\"label\",\"width\",\"line_color\"],\"data\":{\"bins\":[0.0],\"chart_index\":[{\"bins\":0.0}],\"color\":[\"#f22c40\"],\"fill_alpha\":[0.8],\"height\":[3640021.0],\"label\":[{\"bins\":0.0}],\"line_alpha\":[1.0],\"line_color\":[\"white\"],\"width\":[0.8],\"x\":[\"0.0\"],\"y\":[1820010.5]}},\"id\":\"ff728827-8c56-4abd-aef4-ea5e8331cbbb\",\"type\":\"ColumnDataSource\"},{\"attributes\":{\"callback\":null,\"column_names\":[\"height\",\"x\",\"y\",\"line_alpha\",\"fill_alpha\",\"color\",\"label\",\"width\",\"line_color\"],\"data\":{\"bins\":[18668.25],\"chart_index\":[{\"bins\":18668.25}],\"color\":[\"#f22c40\"],\"fill_alpha\":[0.8],\"height\":[27570.0],\"label\":[{\"bins\":18668.25}],\"line_alpha\":[1.0],\"line_color\":[\"white\"],\"width\":[0.8],\"x\":[\"18668.25\"],\"y\":[13785.0]}},\"id\":\"4ecc3838-a15c-4659-8336-e1f73e95a6ce\",\"type\":\"ColumnDataSource\"},{\"attributes\":{\"data_source\":{\"id\":\"47e10dd6-415d-44a4-b76e-0eab97dccfbe\",\"type\":\"ColumnDataSource\"},\"glyph\":{\"id\":\"83e504f7-53af-4451-98b4-75d47711e232\",\"type\":\"Rect\"},\"hover_glyph\":null,\"nonselection_glyph\":null,\"selection_glyph\":null},\"id\":\"adf39878-dfb0-4ae1-ac53-b0fa6fa40d78\",\"type\":\"GlyphRenderer\"},{\"attributes\":{\"fill_alpha\":{\"field\":\"fill_alpha\"},\"fill_color\":{\"field\":\"color\"},\"height\":{\"field\":\"height\",\"units\":\"data\"},\"line_color\":{\"field\":\"line_color\"},\"width\":{\"field\":\"width\",\"units\":\"data\"},\"x\":{\"field\":\"x\"},\"y\":{\"field\":\"y\"}},\"id\":\"58a89735-3f8e-4f0e-8750-9f47123b6577\",\"type\":\"Rect\"},{\"attributes\":{\"data_source\":{\"id\":\"8f598b79-7540-4617-addd-812ee007f806\",\"type\":\"ColumnDataSource\"},\"glyph\":{\"id\":\"e591321f-5525-4ab1-9ca4-0892f3526cf1\",\"type\":\"Rect\"},\"hover_glyph\":null,\"nonselection_glyph\":null,\"selection_glyph\":null},\"id\":\"ecb12420-7dbc-44e9-ae4d-02ab7ab0f001\",\"type\":\"GlyphRenderer\"},{\"attributes\":{\"data_source\":{\"id\":\"9b0dd9e3-1757-48af-a803-cf59148c0639\",\"type\":\"ColumnDataSource\"},\"glyph\":{\"id\":\"53dd9034-1891-424f-8638-dfb949332c74\",\"type\":\"Rect\"},\"hover_glyph\":null,\"nonselection_glyph\":null,\"selection_glyph\":null},\"id\":\"c19eedb4-5b08-4fe1-88b7-e79cb5896942\",\"type\":\"GlyphRenderer\"},{\"attributes\":{\"fill_alpha\":{\"field\":\"fill_alpha\"},\"fill_color\":{\"field\":\"color\"},\"height\":{\"field\":\"height\",\"units\":\"data\"},\"line_color\":{\"field\":\"line_color\"},\"width\":{\"field\":\"width\",\"units\":\"data\"},\"x\":{\"field\":\"x\"},\"y\":{\"field\":\"y\"}},\"id\":\"8cbfc9f0-12db-42c6-a72f-b8aec05f6dd1\",\"type\":\"Rect\"},{\"attributes\":{\"fill_alpha\":{\"field\":\"fill_alpha\"},\"fill_color\":{\"field\":\"color\"},\"height\":{\"field\":\"height\",\"units\":\"data\"},\"line_color\":{\"field\":\"line_color\"},\"width\":{\"field\":\"width\",\"units\":\"data\"},\"x\":{\"field\":\"x\"},\"y\":{\"field\":\"y\"}},\"id\":\"2107d2b3-d444-4ab2-83ce-122b45b7a619\",\"type\":\"Rect\"},{\"attributes\":{\"callback\":null,\"factors\":[\"0.0\",\"2074.25\",\"4148.5\",\"6222.75\",\"8297.0\",\"10371.25\",\"12445.5\",\"14519.75\",\"16594.0\",\"18668.25\",\"20742.5\",\"22816.75\",\"24891.0\",\"26965.25\",\"29039.5\",\"31113.75\",\"33188.0\",\"35262.25\",\"37336.5\",\"39410.75\"]},\"id\":\"61d74605-382c-4194-8838-a9d0eb7746b7\",\"type\":\"FactorRange\"},{\"attributes\":{\"data_source\":{\"id\":\"31004e88-9abd-41b2-bde3-c18c43734e36\",\"type\":\"ColumnDataSource\"},\"glyph\":{\"id\":\"94581e0e-478e-4c94-9f03-5a41a4b0cfc4\",\"type\":\"Rect\"},\"hover_glyph\":null,\"nonselection_glyph\":null,\"selection_glyph\":null},\"id\":\"e9c441a0-249e-4b9b-bf5f-e4ebfcfd7475\",\"type\":\"GlyphRenderer\"},{\"attributes\":{},\"id\":\"da807288-5306-4a6b-843d-1e8461151f5d\",\"type\":\"CategoricalTicker\"},{\"attributes\":{\"fill_alpha\":{\"field\":\"fill_alpha\"},\"fill_color\":{\"field\":\"color\"},\"height\":{\"field\":\"height\",\"units\":\"data\"},\"line_color\":{\"field\":\"line_color\"},\"width\":{\"field\":\"width\",\"units\":\"data\"},\"x\":{\"field\":\"x\"},\"y\":{\"field\":\"y\"}},\"id\":\"4838d835-87b5-4d7c-bd2d-8b02f4bb3039\",\"type\":\"Rect\"},{\"attributes\":{\"data_source\":{\"id\":\"e64af267-711b-46c4-b0d5-9d8d59fe243f\",\"type\":\"ColumnDataSource\"},\"glyph\":{\"id\":\"059a57bc-b519-4cc9-9695-d591c359ed69\",\"type\":\"Rect\"},\"hover_glyph\":null,\"nonselection_glyph\":null,\"selection_glyph\":null},\"id\":\"19018c0f-b75a-4bcf-bc86-318a72f1eef7\",\"type\":\"GlyphRenderer\"},{\"attributes\":{\"legends\":[[\"0.0\",[{\"id\":\"61bc01d2-e590-4745-a58b-b9cde2978484\",\"type\":\"GlyphRenderer\"}]],[\"2074.25\",[{\"id\":\"e9c441a0-249e-4b9b-bf5f-e4ebfcfd7475\",\"type\":\"GlyphRenderer\"}]],[\"4148.5\",[{\"id\":\"e562e81a-f4ed-4c56-8e5d-5e3a8fbb87b1\",\"type\":\"GlyphRenderer\"}]],[\"6222.75\",[{\"id\":\"5248624b-5386-4f7c-8990-85389c5ff98a\",\"type\":\"GlyphRenderer\"}]],[\"8297.0\",[{\"id\":\"0edd08ee-f40c-44c8-9916-aa391d11899b\",\"type\":\"GlyphRenderer\"}]],[\"10371.25\",[{\"id\":\"555370a8-2565-406a-b525-cb7f54bd12e9\",\"type\":\"GlyphRenderer\"}]],[\"12445.5\",[{\"id\":\"3802ca82-6159-474e-9b88-c33e771a0621\",\"type\":\"GlyphRenderer\"}]],[\"14519.75\",[{\"id\":\"19018c0f-b75a-4bcf-bc86-318a72f1eef7\",\"type\":\"GlyphRenderer\"}]],[\"16594.0\",[{\"id\":\"ecb12420-7dbc-44e9-ae4d-02ab7ab0f001\",\"type\":\"GlyphRenderer\"}]],[\"18668.25\",[{\"id\":\"70b32391-3d77-448d-8ba0-a09297eddd46\",\"type\":\"GlyphRenderer\"}]],[\"20742.5\",[{\"id\":\"9dd213cb-9b59-4a3e-bffa-4481910ba1da\",\"type\":\"GlyphRenderer\"}]],[\"22816.75\",[{\"id\":\"0f89d7de-6263-48d3-9bf6-ed60fda627ff\",\"type\":\"GlyphRenderer\"}]],[\"24891.0\",[{\"id\":\"fd06184b-bf34-4ca5-ab38-80085e8968fb\",\"type\":\"GlyphRenderer\"}]],[\"26965.25\",[{\"id\":\"c19eedb4-5b08-4fe1-88b7-e79cb5896942\",\"type\":\"GlyphRenderer\"}]],[\"29039.5\",[{\"id\":\"adf39878-dfb0-4ae1-ac53-b0fa6fa40d78\",\"type\":\"GlyphRenderer\"}]],[\"31113.75\",[{\"id\":\"586b49dc-cbe6-4a4f-9c6c-bb137cdba1c3\",\"type\":\"GlyphRenderer\"}]],[\"33188.0\",[{\"id\":\"035c2802-a3a1-4f41-a4b1-930c30f45f72\",\"type\":\"GlyphRenderer\"}]],[\"35262.25\",[{\"id\":\"6aba3be7-d1f2-4a49-a160-146199488502\",\"type\":\"GlyphRenderer\"}]],[\"37336.5\",[{\"id\":\"d1d7e357-76d2-4f40-84db-df458780568e\",\"type\":\"GlyphRenderer\"}]],[\"39410.75\",[{\"id\":\"f841b32e-e084-40fb-acaa-b5cdb4933a1e\",\"type\":\"GlyphRenderer\"}]]],\"location\":\"top_left\",\"plot\":{\"id\":\"4b6f7f41-17f1-42f9-bc1e-1539bbd39d4f\",\"subtype\":\"Chart\",\"type\":\"Plot\"}},\"id\":\"9cb42eab-3467-4d18-8938-c3adaa844a60\",\"type\":\"Legend\"},{\"attributes\":{\"fill_alpha\":{\"field\":\"fill_alpha\"},\"fill_color\":{\"field\":\"color\"},\"height\":{\"field\":\"height\",\"units\":\"data\"},\"line_color\":{\"field\":\"line_color\"},\"width\":{\"field\":\"width\",\"units\":\"data\"},\"x\":{\"field\":\"x\"},\"y\":{\"field\":\"y\"}},\"id\":\"245eaa70-4697-4232-9f4e-9785e17d078a\",\"type\":\"Rect\"},{\"attributes\":{\"data_source\":{\"id\":\"eb4282c5-a758-48a3-847b-74c1151177c7\",\"type\":\"ColumnDataSource\"},\"glyph\":{\"id\":\"f8b1ab5b-adda-40f1-9cd7-bea830ffde73\",\"type\":\"Rect\"},\"hover_glyph\":null,\"nonselection_glyph\":null,\"selection_glyph\":null},\"id\":\"e562e81a-f4ed-4c56-8e5d-5e3a8fbb87b1\",\"type\":\"GlyphRenderer\"},{\"attributes\":{},\"id\":\"6d1efe64-d76b-4dce-baa3-f0d8c9acb8fc\",\"type\":\"ToolEvents\"},{\"attributes\":{\"callback\":null,\"column_names\":[\"height\",\"x\",\"y\",\"line_alpha\",\"fill_alpha\",\"color\",\"label\",\"width\",\"line_color\"],\"data\":{\"bins\":[37336.5],\"chart_index\":[{\"bins\":37336.5}],\"color\":[\"#f22c40\"],\"fill_alpha\":[0.8],\"height\":[1.0],\"label\":[{\"bins\":37336.5}],\"line_alpha\":[1.0],\"line_color\":[\"white\"],\"width\":[0.8],\"x\":[\"37336.5\"],\"y\":[0.5]}},\"id\":\"f6b3336e-66ed-469f-8720-b7d900daabf4\",\"type\":\"ColumnDataSource\"},{\"attributes\":{\"callback\":null,\"column_names\":[\"height\",\"x\",\"y\",\"line_alpha\",\"fill_alpha\",\"color\",\"label\",\"width\",\"line_color\"],\"data\":{\"bins\":[39410.75],\"chart_index\":[{\"bins\":39410.75}],\"color\":[\"#f22c40\"],\"fill_alpha\":[0.8],\"height\":[4.0],\"label\":[{\"bins\":39410.75}],\"line_alpha\":[1.0],\"line_color\":[\"white\"],\"width\":[0.8],\"x\":[\"39410.75\"],\"y\":[2.0]}},\"id\":\"4e01318b-360a-4408-8765-c19109a2433b\",\"type\":\"ColumnDataSource\"},{\"attributes\":{\"dimension\":1,\"plot\":{\"id\":\"4b6f7f41-17f1-42f9-bc1e-1539bbd39d4f\",\"subtype\":\"Chart\",\"type\":\"Plot\"},\"ticker\":{\"id\":\"fe000a9e-fa7b-47a0-8b2f-89b07c6a2921\",\"type\":\"BasicTicker\"}},\"id\":\"7950b726-7b17-4b60-a999-be75a2e2b2ce\",\"type\":\"Grid\"},{\"attributes\":{\"data_source\":{\"id\":\"4ecc3838-a15c-4659-8336-e1f73e95a6ce\",\"type\":\"ColumnDataSource\"},\"glyph\":{\"id\":\"d3e70dc0-8e8c-47ce-814a-8f1c82eab113\",\"type\":\"Rect\"},\"hover_glyph\":null,\"nonselection_glyph\":null,\"selection_glyph\":null},\"id\":\"70b32391-3d77-448d-8ba0-a09297eddd46\",\"type\":\"GlyphRenderer\"},{\"attributes\":{\"data_source\":{\"id\":\"ff728827-8c56-4abd-aef4-ea5e8331cbbb\",\"type\":\"ColumnDataSource\"},\"glyph\":{\"id\":\"2107d2b3-d444-4ab2-83ce-122b45b7a619\",\"type\":\"Rect\"},\"hover_glyph\":null,\"nonselection_glyph\":null,\"selection_glyph\":null},\"id\":\"61bc01d2-e590-4745-a58b-b9cde2978484\",\"type\":\"GlyphRenderer\"},{\"attributes\":{\"fill_alpha\":{\"field\":\"fill_alpha\"},\"fill_color\":{\"field\":\"color\"},\"height\":{\"field\":\"height\",\"units\":\"data\"},\"line_color\":{\"field\":\"line_color\"},\"width\":{\"field\":\"width\",\"units\":\"data\"},\"x\":{\"field\":\"x\"},\"y\":{\"field\":\"y\"}},\"id\":\"30830913-0782-4408-a7ac-5ba31213bbee\",\"type\":\"Rect\"},{\"attributes\":{\"data_source\":{\"id\":\"2034c597-8b11-437f-a80d-9b3a5ffe2177\",\"type\":\"ColumnDataSource\"},\"glyph\":{\"id\":\"8cbfc9f0-12db-42c6-a72f-b8aec05f6dd1\",\"type\":\"Rect\"},\"hover_glyph\":null,\"nonselection_glyph\":null,\"selection_glyph\":null},\"id\":\"586b49dc-cbe6-4a4f-9c6c-bb137cdba1c3\",\"type\":\"GlyphRenderer\"},{\"attributes\":{\"callback\":null,\"column_names\":[\"height\",\"x\",\"y\",\"line_alpha\",\"fill_alpha\",\"color\",\"label\",\"width\",\"line_color\"],\"data\":{\"bins\":[12445.5],\"chart_index\":[{\"bins\":12445.5}],\"color\":[\"#f22c40\"],\"fill_alpha\":[0.8],\"height\":[192766.0],\"label\":[{\"bins\":12445.5}],\"line_alpha\":[1.0],\"line_color\":[\"white\"],\"width\":[0.8],\"x\":[\"12445.5\"],\"y\":[96383.0]}},\"id\":\"0dac7f86-67a7-4904-ac8e-255b9bfa0f92\",\"type\":\"ColumnDataSource\"},{\"attributes\":{\"fill_alpha\":{\"field\":\"fill_alpha\"},\"fill_color\":{\"field\":\"color\"},\"height\":{\"field\":\"height\",\"units\":\"data\"},\"line_color\":{\"field\":\"line_color\"},\"width\":{\"field\":\"width\",\"units\":\"data\"},\"x\":{\"field\":\"x\"},\"y\":{\"field\":\"y\"}},\"id\":\"ccd919f5-6e13-45c3-b9e5-7eaa2998a9c6\",\"type\":\"Rect\"},{\"attributes\":{\"callback\":null,\"column_names\":[\"height\",\"x\",\"y\",\"line_alpha\",\"fill_alpha\",\"color\",\"label\",\"width\",\"line_color\"],\"data\":{\"bins\":[26965.25],\"chart_index\":[{\"bins\":26965.25}],\"color\":[\"#f22c40\"],\"fill_alpha\":[0.8],\"height\":[1103.0],\"label\":[{\"bins\":26965.25}],\"line_alpha\":[1.0],\"line_color\":[\"white\"],\"width\":[0.8],\"x\":[\"26965.25\"],\"y\":[551.5]}},\"id\":\"9b0dd9e3-1757-48af-a803-cf59148c0639\",\"type\":\"ColumnDataSource\"},{\"attributes\":{\"fill_alpha\":{\"field\":\"fill_alpha\"},\"fill_color\":{\"field\":\"color\"},\"height\":{\"field\":\"height\",\"units\":\"data\"},\"line_color\":{\"field\":\"line_color\"},\"width\":{\"field\":\"width\",\"units\":\"data\"},\"x\":{\"field\":\"x\"},\"y\":{\"field\":\"y\"}},\"id\":\"059a57bc-b519-4cc9-9695-d591c359ed69\",\"type\":\"Rect\"},{\"attributes\":{\"fill_alpha\":{\"field\":\"fill_alpha\"},\"fill_color\":{\"field\":\"color\"},\"height\":{\"field\":\"height\",\"units\":\"data\"},\"line_color\":{\"field\":\"line_color\"},\"width\":{\"field\":\"width\",\"units\":\"data\"},\"x\":{\"field\":\"x\"},\"y\":{\"field\":\"y\"}},\"id\":\"0a534709-5ccb-4aa1-8c9d-0d2d47d3cdbf\",\"type\":\"Rect\"},{\"attributes\":{\"callback\":null,\"column_names\":[\"height\",\"x\",\"y\",\"line_alpha\",\"fill_alpha\",\"color\",\"label\",\"width\",\"line_color\"],\"data\":{\"bins\":[4148.5],\"chart_index\":[{\"bins\":4148.5}],\"color\":[\"#f22c40\"],\"fill_alpha\":[0.8],\"height\":[1718633.0],\"label\":[{\"bins\":4148.5}],\"line_alpha\":[1.0],\"line_color\":[\"white\"],\"width\":[0.8],\"x\":[\"4148.5\"],\"y\":[859316.5]}},\"id\":\"eb4282c5-a758-48a3-847b-74c1151177c7\",\"type\":\"ColumnDataSource\"},{\"attributes\":{\"fill_alpha\":{\"field\":\"fill_alpha\"},\"fill_color\":{\"field\":\"color\"},\"height\":{\"field\":\"height\",\"units\":\"data\"},\"line_color\":{\"field\":\"line_color\"},\"width\":{\"field\":\"width\",\"units\":\"data\"},\"x\":{\"field\":\"x\"},\"y\":{\"field\":\"y\"}},\"id\":\"53dd9034-1891-424f-8638-dfb949332c74\",\"type\":\"Rect\"},{\"attributes\":{\"callback\":null,\"end\":3822022.05},\"id\":\"dcc4e25f-ef26-4a42-a655-d7ada2f1aa9b\",\"type\":\"Range1d\"},{\"attributes\":{\"callback\":null,\"column_names\":[\"height\",\"x\",\"y\",\"line_alpha\",\"fill_alpha\",\"color\",\"label\",\"width\",\"line_color\"],\"data\":{\"bins\":[8297.0],\"chart_index\":[{\"bins\":8297.0}],\"color\":[\"#f22c40\"],\"fill_alpha\":[0.8],\"height\":[601524.0],\"label\":[{\"bins\":8297.0}],\"line_alpha\":[1.0],\"line_color\":[\"white\"],\"width\":[0.8],\"x\":[\"8297.0\"],\"y\":[300762.0]}},\"id\":\"15d4f83a-8831-4efa-a6de-a0b28a8e276b\",\"type\":\"ColumnDataSource\"},{\"attributes\":{\"plot\":null,\"text\":\"Histogram of 'balance'\"},\"id\":\"46ce4fb7-cac0-4c63-9de8-2361f8a4a6d5\",\"type\":\"Title\"},{\"attributes\":{\"plot\":{\"id\":\"4b6f7f41-17f1-42f9-bc1e-1539bbd39d4f\",\"subtype\":\"Chart\",\"type\":\"Plot\"}},\"id\":\"19fbdd7c-4c95-4977-a1f6-329614ce1527\",\"type\":\"ResetTool\"},{\"attributes\":{\"fill_alpha\":{\"field\":\"fill_alpha\"},\"fill_color\":{\"field\":\"color\"},\"height\":{\"field\":\"height\",\"units\":\"data\"},\"line_color\":{\"field\":\"line_color\"},\"width\":{\"field\":\"width\",\"units\":\"data\"},\"x\":{\"field\":\"x\"},\"y\":{\"field\":\"y\"}},\"id\":\"f8b1ab5b-adda-40f1-9cd7-bea830ffde73\",\"type\":\"Rect\"},{\"attributes\":{\"data_source\":{\"id\":\"15d4f83a-8831-4efa-a6de-a0b28a8e276b\",\"type\":\"ColumnDataSource\"},\"glyph\":{\"id\":\"84d0849e-c8ac-4613-9e10-9110d66c8e01\",\"type\":\"Rect\"},\"hover_glyph\":null,\"nonselection_glyph\":null,\"selection_glyph\":null},\"id\":\"0edd08ee-f40c-44c8-9916-aa391d11899b\",\"type\":\"GlyphRenderer\"},{\"attributes\":{\"fill_alpha\":{\"field\":\"fill_alpha\"},\"fill_color\":{\"field\":\"color\"},\"height\":{\"field\":\"height\",\"units\":\"data\"},\"line_color\":{\"field\":\"line_color\"},\"width\":{\"field\":\"width\",\"units\":\"data\"},\"x\":{\"field\":\"x\"},\"y\":{\"field\":\"y\"}},\"id\":\"45094c6d-6571-425f-85da-8f8ae94fc131\",\"type\":\"Rect\"},{\"attributes\":{\"fill_alpha\":{\"field\":\"fill_alpha\"},\"fill_color\":{\"field\":\"color\"},\"height\":{\"field\":\"height\",\"units\":\"data\"},\"line_color\":{\"field\":\"line_color\"},\"width\":{\"field\":\"width\",\"units\":\"data\"},\"x\":{\"field\":\"x\"},\"y\":{\"field\":\"y\"}},\"id\":\"f8f2e011-3c13-4841-9ff8-20e136f6608a\",\"type\":\"Rect\"},{\"attributes\":{\"callback\":null,\"column_names\":[\"height\",\"x\",\"y\",\"line_alpha\",\"fill_alpha\",\"color\",\"label\",\"width\",\"line_color\"],\"data\":{\"bins\":[24891.0],\"chart_index\":[{\"bins\":24891.0}],\"color\":[\"#f22c40\"],\"fill_alpha\":[0.8],\"height\":[2650.0],\"label\":[{\"bins\":24891.0}],\"line_alpha\":[1.0],\"line_color\":[\"white\"],\"width\":[0.8],\"x\":[\"24891.0\"],\"y\":[1325.0]}},\"id\":\"75847a4a-47b8-4774-9d49-93e9d3cd7376\",\"type\":\"ColumnDataSource\"},{\"attributes\":{\"active_drag\":\"auto\",\"active_scroll\":\"auto\",\"active_tap\":\"auto\",\"tools\":[{\"id\":\"63507b90-ecb1-4310-8488-fc3489422898\",\"type\":\"PanTool\"},{\"id\":\"1494a896-2e2c-445f-9180-fd831a756a23\",\"type\":\"WheelZoomTool\"},{\"id\":\"7f931ebf-8f3d-4f9f-ae79-5082acb17356\",\"type\":\"BoxZoomTool\"},{\"id\":\"a763942e-b0f5-4ffe-ab06-3ddc77c7aa3e\",\"type\":\"SaveTool\"},{\"id\":\"19fbdd7c-4c95-4977-a1f6-329614ce1527\",\"type\":\"ResetTool\"},{\"id\":\"0b63655f-c296-4c18-a867-4248fa1422dd\",\"type\":\"HelpTool\"}]},\"id\":\"3e280120-93c8-4d4d-9adf-d6ff7f25f0f6\",\"type\":\"Toolbar\"},{\"attributes\":{\"fill_alpha\":{\"field\":\"fill_alpha\"},\"fill_color\":{\"field\":\"color\"},\"height\":{\"field\":\"height\",\"units\":\"data\"},\"line_color\":{\"field\":\"line_color\"},\"width\":{\"field\":\"width\",\"units\":\"data\"},\"x\":{\"field\":\"x\"},\"y\":{\"field\":\"y\"}},\"id\":\"83e504f7-53af-4451-98b4-75d47711e232\",\"type\":\"Rect\"},{\"attributes\":{\"plot\":{\"id\":\"4b6f7f41-17f1-42f9-bc1e-1539bbd39d4f\",\"subtype\":\"Chart\",\"type\":\"Plot\"}},\"id\":\"0b63655f-c296-4c18-a867-4248fa1422dd\",\"type\":\"HelpTool\"},{\"attributes\":{\"fill_alpha\":{\"field\":\"fill_alpha\"},\"fill_color\":{\"field\":\"color\"},\"height\":{\"field\":\"height\",\"units\":\"data\"},\"line_color\":{\"field\":\"line_color\"},\"width\":{\"field\":\"width\",\"units\":\"data\"},\"x\":{\"field\":\"x\"},\"y\":{\"field\":\"y\"}},\"id\":\"e591321f-5525-4ab1-9ca4-0892f3526cf1\",\"type\":\"Rect\"},{\"attributes\":{\"callback\":null,\"column_names\":[\"height\",\"x\",\"y\",\"line_alpha\",\"fill_alpha\",\"color\",\"label\",\"width\",\"line_color\"],\"data\":{\"bins\":[29039.5],\"chart_index\":[{\"bins\":29039.5}],\"color\":[\"#f22c40\"],\"fill_alpha\":[0.8],\"height\":[358.0],\"label\":[{\"bins\":29039.5}],\"line_alpha\":[1.0],\"line_color\":[\"white\"],\"width\":[0.8],\"x\":[\"29039.5\"],\"y\":[179.0]}},\"id\":\"47e10dd6-415d-44a4-b76e-0eab97dccfbe\",\"type\":\"ColumnDataSource\"},{\"attributes\":{\"callback\":null,\"column_names\":[\"height\",\"x\",\"y\",\"line_alpha\",\"fill_alpha\",\"color\",\"label\",\"width\",\"line_color\"],\"data\":{\"bins\":[31113.75],\"chart_index\":[{\"bins\":31113.75}],\"color\":[\"#f22c40\"],\"fill_alpha\":[0.8],\"height\":[127.0],\"label\":[{\"bins\":31113.75}],\"line_alpha\":[1.0],\"line_color\":[\"white\"],\"width\":[0.8],\"x\":[\"31113.75\"],\"y\":[63.5]}},\"id\":\"2034c597-8b11-437f-a80d-9b3a5ffe2177\",\"type\":\"ColumnDataSource\"},{\"attributes\":{\"plot\":{\"id\":\"4b6f7f41-17f1-42f9-bc1e-1539bbd39d4f\",\"subtype\":\"Chart\",\"type\":\"Plot\"}},\"id\":\"63507b90-ecb1-4310-8488-fc3489422898\",\"type\":\"PanTool\"},{\"attributes\":{\"callback\":null,\"column_names\":[\"height\",\"x\",\"y\",\"line_alpha\",\"fill_alpha\",\"color\",\"label\",\"width\",\"line_color\"],\"data\":{\"bins\":[33188.0],\"chart_index\":[{\"bins\":33188.0}],\"color\":[\"#f22c40\"],\"fill_alpha\":[0.8],\"height\":[45.0],\"label\":[{\"bins\":33188.0}],\"line_alpha\":[1.0],\"line_color\":[\"white\"],\"width\":[0.8],\"x\":[\"33188.0\"],\"y\":[22.5]}},\"id\":\"d5032b2e-044b-4452-9713-ba088fa55a98\",\"type\":\"ColumnDataSource\"},{\"attributes\":{\"callback\":null,\"column_names\":[\"height\",\"x\",\"y\",\"line_alpha\",\"fill_alpha\",\"color\",\"label\",\"width\",\"line_color\"],\"data\":{\"bins\":[14519.75],\"chart_index\":[{\"bins\":14519.75}],\"color\":[\"#f22c40\"],\"fill_alpha\":[0.8],\"height\":[104486.0],\"label\":[{\"bins\":14519.75}],\"line_alpha\":[1.0],\"line_color\":[\"white\"],\"width\":[0.8],\"x\":[\"14519.75\"],\"y\":[52243.0]}},\"id\":\"e64af267-711b-46c4-b0d5-9d8d59fe243f\",\"type\":\"ColumnDataSource\"},{\"attributes\":{},\"id\":\"60ea40a1-9b51-42c7-93b9-8e859301891a\",\"type\":\"CategoricalTickFormatter\"},{\"attributes\":{\"plot\":{\"id\":\"4b6f7f41-17f1-42f9-bc1e-1539bbd39d4f\",\"subtype\":\"Chart\",\"type\":\"Plot\"}},\"id\":\"1494a896-2e2c-445f-9180-fd831a756a23\",\"type\":\"WheelZoomTool\"},{\"attributes\":{\"callback\":null,\"column_names\":[\"height\",\"x\",\"y\",\"line_alpha\",\"fill_alpha\",\"color\",\"label\",\"width\",\"line_color\"],\"data\":{\"bins\":[20742.5],\"chart_index\":[{\"bins\":20742.5}],\"color\":[\"#f22c40\"],\"fill_alpha\":[0.8],\"height\":[13117.0],\"label\":[{\"bins\":20742.5}],\"line_alpha\":[1.0],\"line_color\":[\"white\"],\"width\":[0.8],\"x\":[\"20742.5\"],\"y\":[6558.5]}},\"id\":\"b788956d-6769-4b6b-abc4-eb79acb5183f\",\"type\":\"ColumnDataSource\"},{\"attributes\":{\"data_source\":{\"id\":\"1914ef9f-8fc6-497c-b334-253312b168f0\",\"type\":\"ColumnDataSource\"},\"glyph\":{\"id\":\"0a534709-5ccb-4aa1-8c9d-0d2d47d3cdbf\",\"type\":\"Rect\"},\"hover_glyph\":null,\"nonselection_glyph\":null,\"selection_glyph\":null},\"id\":\"555370a8-2565-406a-b525-cb7f54bd12e9\",\"type\":\"GlyphRenderer\"},{\"attributes\":{\"overlay\":{\"id\":\"6050657a-77a7-4068-aad6-e759e5377f22\",\"type\":\"BoxAnnotation\"},\"plot\":{\"id\":\"4b6f7f41-17f1-42f9-bc1e-1539bbd39d4f\",\"subtype\":\"Chart\",\"type\":\"Plot\"}},\"id\":\"7f931ebf-8f3d-4f9f-ae79-5082acb17356\",\"type\":\"BoxZoomTool\"},{\"attributes\":{},\"id\":\"fe000a9e-fa7b-47a0-8b2f-89b07c6a2921\",\"type\":\"BasicTicker\"},{\"attributes\":{\"data_source\":{\"id\":\"7c9e2e80-52ba-4635-9694-5e57b8700a4e\",\"type\":\"ColumnDataSource\"},\"glyph\":{\"id\":\"0c9a4f31-6130-4623-9e3b-8fc549793373\",\"type\":\"Rect\"},\"hover_glyph\":null,\"nonselection_glyph\":null,\"selection_glyph\":null},\"id\":\"0f89d7de-6263-48d3-9bf6-ed60fda627ff\",\"type\":\"GlyphRenderer\"},{\"attributes\":{\"below\":[{\"id\":\"e84043e2-b16e-4c63-99c2-6e2df08f8b8d\",\"type\":\"CategoricalAxis\"}],\"left\":[{\"id\":\"a32e9711-e396-425a-a371-f85ac90fc2e0\",\"type\":\"LinearAxis\"}],\"renderers\":[{\"id\":\"6050657a-77a7-4068-aad6-e759e5377f22\",\"type\":\"BoxAnnotation\"},{\"id\":\"61bc01d2-e590-4745-a58b-b9cde2978484\",\"type\":\"GlyphRenderer\"},{\"id\":\"e9c441a0-249e-4b9b-bf5f-e4ebfcfd7475\",\"type\":\"GlyphRenderer\"},{\"id\":\"e562e81a-f4ed-4c56-8e5d-5e3a8fbb87b1\",\"type\":\"GlyphRenderer\"},{\"id\":\"5248624b-5386-4f7c-8990-85389c5ff98a\",\"type\":\"GlyphRenderer\"},{\"id\":\"0edd08ee-f40c-44c8-9916-aa391d11899b\",\"type\":\"GlyphRenderer\"},{\"id\":\"555370a8-2565-406a-b525-cb7f54bd12e9\",\"type\":\"GlyphRenderer\"},{\"id\":\"3802ca82-6159-474e-9b88-c33e771a0621\",\"type\":\"GlyphRenderer\"},{\"id\":\"19018c0f-b75a-4bcf-bc86-318a72f1eef7\",\"type\":\"GlyphRenderer\"},{\"id\":\"ecb12420-7dbc-44e9-ae4d-02ab7ab0f001\",\"type\":\"GlyphRenderer\"},{\"id\":\"70b32391-3d77-448d-8ba0-a09297eddd46\",\"type\":\"GlyphRenderer\"},{\"id\":\"9dd213cb-9b59-4a3e-bffa-4481910ba1da\",\"type\":\"GlyphRenderer\"},{\"id\":\"0f89d7de-6263-48d3-9bf6-ed60fda627ff\",\"type\":\"GlyphRenderer\"},{\"id\":\"fd06184b-bf34-4ca5-ab38-80085e8968fb\",\"type\":\"GlyphRenderer\"},{\"id\":\"c19eedb4-5b08-4fe1-88b7-e79cb5896942\",\"type\":\"GlyphRenderer\"},{\"id\":\"adf39878-dfb0-4ae1-ac53-b0fa6fa40d78\",\"type\":\"GlyphRenderer\"},{\"id\":\"586b49dc-cbe6-4a4f-9c6c-bb137cdba1c3\",\"type\":\"GlyphRenderer\"},{\"id\":\"035c2802-a3a1-4f41-a4b1-930c30f45f72\",\"type\":\"GlyphRenderer\"},{\"id\":\"6aba3be7-d1f2-4a49-a160-146199488502\",\"type\":\"GlyphRenderer\"},{\"id\":\"d1d7e357-76d2-4f40-84db-df458780568e\",\"type\":\"GlyphRenderer\"},{\"id\":\"f841b32e-e084-40fb-acaa-b5cdb4933a1e\",\"type\":\"GlyphRenderer\"},{\"id\":\"9cb42eab-3467-4d18-8938-c3adaa844a60\",\"type\":\"Legend\"},{\"id\":\"e84043e2-b16e-4c63-99c2-6e2df08f8b8d\",\"type\":\"CategoricalAxis\"},{\"id\":\"a32e9711-e396-425a-a371-f85ac90fc2e0\",\"type\":\"LinearAxis\"},{\"id\":\"7950b726-7b17-4b60-a999-be75a2e2b2ce\",\"type\":\"Grid\"}],\"title\":{\"id\":\"46ce4fb7-cac0-4c63-9de8-2361f8a4a6d5\",\"type\":\"Title\"},\"tool_events\":{\"id\":\"6d1efe64-d76b-4dce-baa3-f0d8c9acb8fc\",\"type\":\"ToolEvents\"},\"toolbar\":{\"id\":\"3e280120-93c8-4d4d-9adf-d6ff7f25f0f6\",\"type\":\"Toolbar\"},\"x_mapper_type\":\"auto\",\"x_range\":{\"id\":\"61d74605-382c-4194-8838-a9d0eb7746b7\",\"type\":\"FactorRange\"},\"y_mapper_type\":\"auto\",\"y_range\":{\"id\":\"dcc4e25f-ef26-4a42-a655-d7ada2f1aa9b\",\"type\":\"Range1d\"}},\"id\":\"4b6f7f41-17f1-42f9-bc1e-1539bbd39d4f\",\"subtype\":\"Chart\",\"type\":\"Plot\"},{\"attributes\":{\"callback\":null,\"column_names\":[\"height\",\"x\",\"y\",\"line_alpha\",\"fill_alpha\",\"color\",\"label\",\"width\",\"line_color\"],\"data\":{\"bins\":[6222.75],\"chart_index\":[{\"bins\":6222.75}],\"color\":[\"#f22c40\"],\"fill_alpha\":[0.8],\"height\":[1035019.0],\"label\":[{\"bins\":6222.75}],\"line_alpha\":[1.0],\"line_color\":[\"white\"],\"width\":[0.8],\"x\":[\"6222.75\"],\"y\":[517509.5]}},\"id\":\"11f7e1ae-5e28-4200-96e5-4bb156d54e29\",\"type\":\"ColumnDataSource\"},{\"attributes\":{\"fill_alpha\":{\"field\":\"fill_alpha\"},\"fill_color\":{\"field\":\"color\"},\"height\":{\"field\":\"height\",\"units\":\"data\"},\"line_color\":{\"field\":\"line_color\"},\"width\":{\"field\":\"width\",\"units\":\"data\"},\"x\":{\"field\":\"x\"},\"y\":{\"field\":\"y\"}},\"id\":\"84d0849e-c8ac-4613-9e10-9110d66c8e01\",\"type\":\"Rect\"},{\"attributes\":{\"data_source\":{\"id\":\"b788956d-6769-4b6b-abc4-eb79acb5183f\",\"type\":\"ColumnDataSource\"},\"glyph\":{\"id\":\"45094c6d-6571-425f-85da-8f8ae94fc131\",\"type\":\"Rect\"},\"hover_glyph\":null,\"nonselection_glyph\":null,\"selection_glyph\":null},\"id\":\"9dd213cb-9b59-4a3e-bffa-4481910ba1da\",\"type\":\"GlyphRenderer\"},{\"attributes\":{\"bottom_units\":\"screen\",\"fill_alpha\":{\"value\":0.5},\"fill_color\":{\"value\":\"lightgrey\"},\"left_units\":\"screen\",\"level\":\"overlay\",\"line_alpha\":{\"value\":1.0},\"line_color\":{\"value\":\"black\"},\"line_dash\":[4,4],\"line_width\":{\"value\":2},\"plot\":null,\"render_mode\":\"css\",\"right_units\":\"screen\",\"top_units\":\"screen\"},\"id\":\"6050657a-77a7-4068-aad6-e759e5377f22\",\"type\":\"BoxAnnotation\"},{\"attributes\":{\"data_source\":{\"id\":\"d5032b2e-044b-4452-9713-ba088fa55a98\",\"type\":\"ColumnDataSource\"},\"glyph\":{\"id\":\"245eaa70-4697-4232-9f4e-9785e17d078a\",\"type\":\"Rect\"},\"hover_glyph\":null,\"nonselection_glyph\":null,\"selection_glyph\":null},\"id\":\"035c2802-a3a1-4f41-a4b1-930c30f45f72\",\"type\":\"GlyphRenderer\"},{\"attributes\":{\"fill_alpha\":{\"field\":\"fill_alpha\"},\"fill_color\":{\"field\":\"color\"},\"height\":{\"field\":\"height\",\"units\":\"data\"},\"line_color\":{\"field\":\"line_color\"},\"width\":{\"field\":\"width\",\"units\":\"data\"},\"x\":{\"field\":\"x\"},\"y\":{\"field\":\"y\"}},\"id\":\"94581e0e-478e-4c94-9f03-5a41a4b0cfc4\",\"type\":\"Rect\"},{\"attributes\":{\"fill_alpha\":{\"field\":\"fill_alpha\"},\"fill_color\":{\"field\":\"color\"},\"height\":{\"field\":\"height\",\"units\":\"data\"},\"line_color\":{\"field\":\"line_color\"},\"width\":{\"field\":\"width\",\"units\":\"data\"},\"x\":{\"field\":\"x\"},\"y\":{\"field\":\"y\"}},\"id\":\"6da7d99b-dadc-4daa-b4d0-0b22b0cbadf4\",\"type\":\"Rect\"},{\"attributes\":{\"callback\":null,\"column_names\":[\"height\",\"x\",\"y\",\"line_alpha\",\"fill_alpha\",\"color\",\"label\",\"width\",\"line_color\"],\"data\":{\"bins\":[2074.25],\"chart_index\":[{\"bins\":2074.25}],\"color\":[\"#f22c40\"],\"fill_alpha\":[0.8],\"height\":[2258778.0],\"label\":[{\"bins\":2074.25}],\"line_alpha\":[1.0],\"line_color\":[\"white\"],\"width\":[0.8],\"x\":[\"2074.25\"],\"y\":[1129389.0]}},\"id\":\"31004e88-9abd-41b2-bde3-c18c43734e36\",\"type\":\"ColumnDataSource\"},{\"attributes\":{\"fill_alpha\":{\"field\":\"fill_alpha\"},\"fill_color\":{\"field\":\"color\"},\"height\":{\"field\":\"height\",\"units\":\"data\"},\"line_color\":{\"field\":\"line_color\"},\"width\":{\"field\":\"width\",\"units\":\"data\"},\"x\":{\"field\":\"x\"},\"y\":{\"field\":\"y\"}},\"id\":\"d3e70dc0-8e8c-47ce-814a-8f1c82eab113\",\"type\":\"Rect\"},{\"attributes\":{\"fill_alpha\":{\"field\":\"fill_alpha\"},\"fill_color\":{\"field\":\"color\"},\"height\":{\"field\":\"height\",\"units\":\"data\"},\"line_color\":{\"field\":\"line_color\"},\"width\":{\"field\":\"width\",\"units\":\"data\"},\"x\":{\"field\":\"x\"},\"y\":{\"field\":\"y\"}},\"id\":\"0c9a4f31-6130-4623-9e3b-8fc549793373\",\"type\":\"Rect\"},{\"attributes\":{\"data_source\":{\"id\":\"4e01318b-360a-4408-8765-c19109a2433b\",\"type\":\"ColumnDataSource\"},\"glyph\":{\"id\":\"4838d835-87b5-4d7c-bd2d-8b02f4bb3039\",\"type\":\"Rect\"},\"hover_glyph\":null,\"nonselection_glyph\":null,\"selection_glyph\":null},\"id\":\"f841b32e-e084-40fb-acaa-b5cdb4933a1e\",\"type\":\"GlyphRenderer\"},{\"attributes\":{\"axis_label\":\"Bins\",\"formatter\":{\"id\":\"60ea40a1-9b51-42c7-93b9-8e859301891a\",\"type\":\"CategoricalTickFormatter\"},\"major_label_orientation\":0.7853981633974483,\"plot\":{\"id\":\"4b6f7f41-17f1-42f9-bc1e-1539bbd39d4f\",\"subtype\":\"Chart\",\"type\":\"Plot\"},\"ticker\":{\"id\":\"da807288-5306-4a6b-843d-1e8461151f5d\",\"type\":\"CategoricalTicker\"}},\"id\":\"e84043e2-b16e-4c63-99c2-6e2df08f8b8d\",\"type\":\"CategoricalAxis\"},{\"attributes\":{},\"id\":\"8d1252fa-a84f-46c0-abc2-cc10e040526e\",\"type\":\"BasicTickFormatter\"},{\"attributes\":{\"callback\":null,\"column_names\":[\"height\",\"x\",\"y\",\"line_alpha\",\"fill_alpha\",\"color\",\"label\",\"width\",\"line_color\"],\"data\":{\"bins\":[22816.75],\"chart_index\":[{\"bins\":22816.75}],\"color\":[\"#f22c40\"],\"fill_alpha\":[0.8],\"height\":[5805.0],\"label\":[{\"bins\":22816.75}],\"line_alpha\":[1.0],\"line_color\":[\"white\"],\"width\":[0.8],\"x\":[\"22816.75\"],\"y\":[2902.5]}},\"id\":\"7c9e2e80-52ba-4635-9694-5e57b8700a4e\",\"type\":\"ColumnDataSource\"},{\"attributes\":{\"data_source\":{\"id\":\"11f7e1ae-5e28-4200-96e5-4bb156d54e29\",\"type\":\"ColumnDataSource\"},\"glyph\":{\"id\":\"58a89735-3f8e-4f0e-8750-9f47123b6577\",\"type\":\"Rect\"},\"hover_glyph\":null,\"nonselection_glyph\":null,\"selection_glyph\":null},\"id\":\"5248624b-5386-4f7c-8990-85389c5ff98a\",\"type\":\"GlyphRenderer\"},{\"attributes\":{\"data_source\":{\"id\":\"07a8fc30-c769-4dde-9d40-682dc933f1a3\",\"type\":\"ColumnDataSource\"},\"glyph\":{\"id\":\"f8f2e011-3c13-4841-9ff8-20e136f6608a\",\"type\":\"Rect\"},\"hover_glyph\":null,\"nonselection_glyph\":null,\"selection_glyph\":null},\"id\":\"6aba3be7-d1f2-4a49-a160-146199488502\",\"type\":\"GlyphRenderer\"},{\"attributes\":{\"callback\":null,\"column_names\":[\"height\",\"x\",\"y\",\"line_alpha\",\"fill_alpha\",\"color\",\"label\",\"width\",\"line_color\"],\"data\":{\"bins\":[35262.25],\"chart_index\":[{\"bins\":35262.25}],\"color\":[\"#f22c40\"],\"fill_alpha\":[0.8],\"height\":[15.0],\"label\":[{\"bins\":35262.25}],\"line_alpha\":[1.0],\"line_color\":[\"white\"],\"width\":[0.8],\"x\":[\"35262.25\"],\"y\":[7.5]}},\"id\":\"07a8fc30-c769-4dde-9d40-682dc933f1a3\",\"type\":\"ColumnDataSource\"},{\"attributes\":{\"plot\":{\"id\":\"4b6f7f41-17f1-42f9-bc1e-1539bbd39d4f\",\"subtype\":\"Chart\",\"type\":\"Plot\"}},\"id\":\"a763942e-b0f5-4ffe-ab06-3ddc77c7aa3e\",\"type\":\"SaveTool\"},{\"attributes\":{\"callback\":null,\"column_names\":[\"height\",\"x\",\"y\",\"line_alpha\",\"fill_alpha\",\"color\",\"label\",\"width\",\"line_color\"],\"data\":{\"bins\":[16594.0],\"chart_index\":[{\"bins\":16594.0}],\"color\":[\"#f22c40\"],\"fill_alpha\":[0.8],\"height\":[54517.0],\"label\":[{\"bins\":16594.0}],\"line_alpha\":[1.0],\"line_color\":[\"white\"],\"width\":[0.8],\"x\":[\"16594.0\"],\"y\":[27258.5]}},\"id\":\"8f598b79-7540-4617-addd-812ee007f806\",\"type\":\"ColumnDataSource\"},{\"attributes\":{\"axis_label\":\"Sum( Freq )\",\"formatter\":{\"id\":\"8d1252fa-a84f-46c0-abc2-cc10e040526e\",\"type\":\"BasicTickFormatter\"},\"plot\":{\"id\":\"4b6f7f41-17f1-42f9-bc1e-1539bbd39d4f\",\"subtype\":\"Chart\",\"type\":\"Plot\"},\"ticker\":{\"id\":\"fe000a9e-fa7b-47a0-8b2f-89b07c6a2921\",\"type\":\"BasicTicker\"}},\"id\":\"a32e9711-e396-425a-a371-f85ac90fc2e0\",\"type\":\"LinearAxis\"}],\"root_ids\":[\"4b6f7f41-17f1-42f9-bc1e-1539bbd39d4f\"]},\"title\":\"Bokeh Application\",\"version\":\"0.12.2\"}};\n",
       "            var render_items = [{\"docid\":\"d98f31c3-db4f-4d89-81ca-882364f9488f\",\"elementid\":\"63691f26-6b78-4288-af07-b62dff8ddfcd\",\"modelid\":\"4b6f7f41-17f1-42f9-bc1e-1539bbd39d4f\"}];\n",
       "            \n",
       "            Bokeh.embed.embed_items(docs_json, render_items);\n",
       "        });\n",
       "      },\n",
       "      function(Bokeh) {\n",
       "      }\n",
       "    ];\n",
       "  \n",
       "    function run_inline_js() {\n",
       "      \n",
       "      if ((window.Bokeh !== undefined) || (force === \"1\")) {\n",
       "        for (var i = 0; i < inline_js.length; i++) {\n",
       "          inline_js[i](window.Bokeh);\n",
       "        }if (force === \"1\") {\n",
       "          display_loaded();\n",
       "        }} else if (Date.now() < window._bokeh_timeout) {\n",
       "        setTimeout(run_inline_js, 100);\n",
       "      } else if (!window._bokeh_failed_load) {\n",
       "        console.log(\"Bokeh: BokehJS failed to load within specified timeout.\");\n",
       "        window._bokeh_failed_load = true;\n",
       "      } else if (!force) {\n",
       "        var cell = $(\"#63691f26-6b78-4288-af07-b62dff8ddfcd\").parents('.cell').data().cell;\n",
       "        cell.output_area.append_execute_result(NB_LOAD_WARNING)\n",
       "      }\n",
       "  \n",
       "    }\n",
       "  \n",
       "    if (window._bokeh_is_loading === 0) {\n",
       "      console.log(\"Bokeh: BokehJS loaded, going straight to plotting\");\n",
       "      run_inline_js();\n",
       "    } else {\n",
       "      load_libs(js_urls, function() {\n",
       "        console.log(\"Bokeh: BokehJS plotting callback run at\", now());\n",
       "        run_inline_js();\n",
       "      });\n",
       "    }\n",
       "  }(this));\n",
       "</script>"
      ]
     },
     "metadata": {},
     "output_type": "display_data"
    }
   ],
   "source": [
    "b_hist = chrt.Bar(data, values='freq', label='bins', title='Histogram of \\'balance\\'')\n",
    "chrt.show(b_hist)"
   ]
  },
  {
   "cell_type": "markdown",
   "metadata": {},
   "source": [
    "If your data is small enough to fit on the driver (although we would argue it would normally be faster to use the method showed above) you can bring the data and use the `.hist(...)` (from Matplotlib) or `.Histogram(...)` (from Bokeh) methods."
   ]
  },
  {
   "cell_type": "code",
   "execution_count": 185,
   "metadata": {
    "collapsed": true
   },
   "outputs": [],
   "source": [
    "data_driver = {'obs': fraud_pd.select('balance').rdd.flatMap(lambda row: row).collect()}"
   ]
  },
  {
   "cell_type": "code",
   "execution_count": 187,
   "metadata": {
    "collapsed": false
   },
   "outputs": [
    {
     "data": {
      "image/png": "[encoded data removed]",
      "text/plain": [
       "<Figure size 1200x900 with 1 Axes>"
      ]
     },
     "metadata": {},
     "output_type": "display_data"
    }
   ],
   "source": [
    "fig = plt.figure(figsize=(12,9))\n",
    "ax = fig.add_subplot(1, 1, 1)\n",
    "\n",
    "ax.hist(data_driver['obs'], bins=20)\n",
    "ax.set_title('Histogram of \\'balance\\' using .hist()')\n",
    "\n",
    "\n",
    "plt.savefig('B05793_05_24.png', dpi=300)"
   ]
  },
  {
   "cell_type": "code",
   "execution_count": 188,
   "metadata": {
    "collapsed": false
   },
   "outputs": [
    {
     "data": {
      "text/html": [
       "\n",
       "\n",
       "    <div class=\"bk-root\">\n",
       "        <div class=\"plotdiv\" id=\"e726f15f-3d8c-4f5e-b2bb-1ae3ba7a12b4\"></div>\n",
       "    </div>\n",
       "<script type=\"text/javascript\">\n",
       "  \n",
       "  (function(global) {\n",
       "    function now() {\n",
       "      return new Date();\n",
       "    }\n",
       "  \n",
       "    var force = \"\";\n",
       "  \n",
       "    if (typeof (window._bokeh_onload_callbacks) === \"undefined\" || force !== \"\") {\n",
       "      window._bokeh_onload_callbacks = [];\n",
       "      window._bokeh_is_loading = undefined;\n",
       "    }\n",
       "  \n",
       "  \n",
       "    \n",
       "    if (typeof (window._bokeh_timeout) === \"undefined\" || force !== \"\") {\n",
       "      window._bokeh_timeout = Date.now() + 0;\n",
       "      window._bokeh_failed_load = false;\n",
       "    }\n",
       "  \n",
       "    var NB_LOAD_WARNING = {'data': {'text/html':\n",
       "       \"<div style='background-color: #fdd'>\\n\"+\n",
       "       \"<p>\\n\"+\n",
       "       \"BokehJS does not appear to have successfully loaded. If loading BokehJS from CDN, this \\n\"+\n",
       "       \"may be due to a slow or bad network connection. Possible fixes:\\n\"+\n",
       "       \"</p>\\n\"+\n",
       "       \"<ul>\\n\"+\n",
       "       \"<li>re-rerun `output_notebook()` to attempt to load from CDN again, or</li>\\n\"+\n",
       "       \"<li>use INLINE resources instead, as so:</li>\\n\"+\n",
       "       \"</ul>\\n\"+\n",
       "       \"<code>\\n\"+\n",
       "       \"from bokeh.resources import INLINE\\n\"+\n",
       "       \"output_notebook(resources=INLINE)\\n\"+\n",
       "       \"</code>\\n\"+\n",
       "       \"</div>\"}};\n",
       "  \n",
       "    function display_loaded() {\n",
       "      if (window.Bokeh !== undefined) {\n",
       "        Bokeh.$(\"#e726f15f-3d8c-4f5e-b2bb-1ae3ba7a12b4\").text(\"BokehJS successfully loaded.\");\n",
       "      } else if (Date.now() < window._bokeh_timeout) {\n",
       "        setTimeout(display_loaded, 100)\n",
       "      }\n",
       "    }\n",
       "  \n",
       "    function run_callbacks() {\n",
       "      window._bokeh_onload_callbacks.forEach(function(callback) { callback() });\n",
       "      delete window._bokeh_onload_callbacks\n",
       "      console.info(\"Bokeh: all callbacks have finished\");\n",
       "    }\n",
       "  \n",
       "    function load_libs(js_urls, callback) {\n",
       "      window._bokeh_onload_callbacks.push(callback);\n",
       "      if (window._bokeh_is_loading > 0) {\n",
       "        console.log(\"Bokeh: BokehJS is being loaded, scheduling callback at\", now());\n",
       "        return null;\n",
       "      }\n",
       "      if (js_urls == null || js_urls.length === 0) {\n",
       "        run_callbacks();\n",
       "        return null;\n",
       "      }\n",
       "      console.log(\"Bokeh: BokehJS not loaded, scheduling load and callback at\", now());\n",
       "      window._bokeh_is_loading = js_urls.length;\n",
       "      for (var i = 0; i < js_urls.length; i++) {\n",
       "        var url = js_urls[i];\n",
       "        var s = document.createElement('script');\n",
       "        s.src = url;\n",
       "        s.async = false;\n",
       "        s.onreadystatechange = s.onload = function() {\n",
       "          window._bokeh_is_loading--;\n",
       "          if (window._bokeh_is_loading === 0) {\n",
       "            console.log(\"Bokeh: all BokehJS libraries loaded\");\n",
       "            run_callbacks()\n",
       "          }\n",
       "        };\n",
       "        s.onerror = function() {\n",
       "          console.warn(\"failed to load library \" + url);\n",
       "        };\n",
       "        console.log(\"Bokeh: injecting script tag for BokehJS library: \", url);\n",
       "        document.getElementsByTagName(\"head\")[0].appendChild(s);\n",
       "      }\n",
       "    };var element = document.getElementById(\"e726f15f-3d8c-4f5e-b2bb-1ae3ba7a12b4\");\n",
       "    if (element == null) {\n",
       "      console.log(\"Bokeh: ERROR: autoload.js configured with elementid 'e726f15f-3d8c-4f5e-b2bb-1ae3ba7a12b4' but no matching script tag was found. \")\n",
       "      return false;\n",
       "    }\n",
       "  \n",
       "    var js_urls = [];\n",
       "  \n",
       "    var inline_js = [\n",
       "      function(Bokeh) {\n",
       "        Bokeh.$(function() {\n",
       "            var docs_json = {\"01f47863-4164-4264-9cb1-7daf24e7bd87\":{\"roots\":{\"references\":[{\"attributes\":{\"fill_alpha\":{\"field\":\"fill_alpha\"},\"fill_color\":{\"field\":\"color\"},\"height\":{\"field\":\"height\",\"units\":\"data\"},\"line_color\":{\"field\":\"line_color\"},\"width\":{\"field\":\"width\",\"units\":\"data\"},\"x\":{\"field\":\"x\"},\"y\":{\"field\":\"y\"}},\"id\":\"12d0dd97-89c9-4351-8f44-b9e466919f3a\",\"type\":\"Rect\"},{\"attributes\":{\"fill_alpha\":{\"field\":\"fill_alpha\"},\"fill_color\":{\"field\":\"color\"},\"height\":{\"field\":\"height\",\"units\":\"data\"},\"line_color\":{\"field\":\"line_color\"},\"width\":{\"field\":\"width\",\"units\":\"data\"},\"x\":{\"field\":\"x\"},\"y\":{\"field\":\"y\"}},\"id\":\"4fece9e0-b83e-4658-a093-eae586ada84e\",\"type\":\"Rect\"},{\"attributes\":{\"callback\":null,\"column_names\":[\"height\",\"x\",\"y\",\"line_alpha\",\"fill_alpha\",\"color\",\"label\",\"width\",\"line_color\"],\"data\":{\"chart_index\":[\"(4148.5, 6222.8]\"],\"color\":[\"#f22c40\"],\"fill_alpha\":[0.8],\"height\":[1718633.0],\"label\":[\"(4148.5, 6222.8]\"],\"line_alpha\":[1.0],\"line_color\":[\"black\"],\"width\":[2074.25],\"x\":[\"5185.65\"],\"y\":[859316.5]}},\"id\":\"8f79ac2e-b5a8-4cdd-ab6e-2aaef06999fe\",\"type\":\"ColumnDataSource\"},{\"attributes\":{},\"id\":\"b8f919a2-777f-42a9-9407-b094b45e3733\",\"type\":\"ToolEvents\"},{\"attributes\":{\"fill_alpha\":{\"field\":\"fill_alpha\"},\"fill_color\":{\"field\":\"color\"},\"height\":{\"field\":\"height\",\"units\":\"data\"},\"line_color\":{\"field\":\"line_color\"},\"width\":{\"field\":\"width\",\"units\":\"data\"},\"x\":{\"field\":\"x\"},\"y\":{\"field\":\"y\"}},\"id\":\"4120e9ff-7044-459a-a62a-a0f37232e25e\",\"type\":\"Rect\"},{\"attributes\":{\"callback\":null,\"column_names\":[\"height\",\"x\",\"y\",\"line_alpha\",\"fill_alpha\",\"color\",\"label\",\"width\",\"line_color\"],\"data\":{\"chart_index\":[\"(12445.5, 14519.8]\"],\"color\":[\"#f22c40\"],\"fill_alpha\":[0.8],\"height\":[192766.0],\"label\":[\"(12445.5, 14519.8]\"],\"line_alpha\":[1.0],\"line_color\":[\"black\"],\"width\":[2074.25],\"x\":[\"13482.65\"],\"y\":[96383.0]}},\"id\":\"46fb01e3-0404-49d7-9049-23b9b3b0ab3a\",\"type\":\"ColumnDataSource\"},{\"attributes\":{\"fill_alpha\":{\"field\":\"fill_alpha\"},\"fill_color\":{\"field\":\"color\"},\"height\":{\"field\":\"height\",\"units\":\"data\"},\"line_color\":{\"field\":\"line_color\"},\"width\":{\"field\":\"width\",\"units\":\"data\"},\"x\":{\"field\":\"x\"},\"y\":{\"field\":\"y\"}},\"id\":\"4127ee86-ba6c-4fc4-a6e8-312454aecbc1\",\"type\":\"Rect\"},{\"attributes\":{\"callback\":null,\"column_names\":[\"height\",\"x\",\"y\",\"line_alpha\",\"fill_alpha\",\"color\",\"label\",\"width\",\"line_color\"],\"data\":{\"chart_index\":[\"(33188.0, 35262.2]\"],\"color\":[\"#f22c40\"],\"fill_alpha\":[0.8],\"height\":[45.0],\"label\":[\"(33188.0, 35262.2]\"],\"line_alpha\":[1.0],\"line_color\":[\"black\"],\"width\":[2074.25],\"x\":[\"34225.1\"],\"y\":[22.5]}},\"id\":\"81b57e8b-978f-4cd3-b0ea-143358016d3b\",\"type\":\"ColumnDataSource\"},{\"attributes\":{\"callback\":null,\"column_names\":[\"height\",\"x\",\"y\",\"line_alpha\",\"fill_alpha\",\"color\",\"label\",\"width\",\"line_color\"],\"data\":{\"chart_index\":[\"(6222.8, 8297.0]\"],\"color\":[\"#f22c40\"],\"fill_alpha\":[0.8],\"height\":[1035019.0],\"label\":[\"(6222.8, 8297.0]\"],\"line_alpha\":[1.0],\"line_color\":[\"black\"],\"width\":[2074.25],\"x\":[\"7259.9\"],\"y\":[517509.5]}},\"id\":\"00c965f3-51f2-4573-a8aa-2a308de0ba30\",\"type\":\"ColumnDataSource\"},{\"attributes\":{\"plot\":{\"id\":\"f2cd26a1-1e62-4e27-bd42-023e324d26ee\",\"subtype\":\"Chart\",\"type\":\"Plot\"}},\"id\":\"1a5b992a-cb5a-4b7e-bac1-0b6bfe4a957a\",\"type\":\"SaveTool\"},{\"attributes\":{\"data_source\":{\"id\":\"92963568-7f1e-4a01-945c-bc0e73cd1189\",\"type\":\"ColumnDataSource\"},\"glyph\":{\"id\":\"3dd207a6-004e-44b5-af34-735bd3f5c03f\",\"type\":\"Rect\"},\"hover_glyph\":null,\"nonselection_glyph\":null,\"selection_glyph\":null},\"id\":\"ea364842-6de4-4498-8606-6ee8d357af40\",\"type\":\"GlyphRenderer\"},{\"attributes\":{\"fill_alpha\":{\"field\":\"fill_alpha\"},\"fill_color\":{\"field\":\"color\"},\"height\":{\"field\":\"height\",\"units\":\"data\"},\"line_color\":{\"field\":\"line_color\"},\"width\":{\"field\":\"width\",\"units\":\"data\"},\"x\":{\"field\":\"x\"},\"y\":{\"field\":\"y\"}},\"id\":\"0ce3297d-de4f-42db-aa83-9981cebff0b3\",\"type\":\"Rect\"},{\"attributes\":{\"callback\":null,\"column_names\":[\"height\",\"x\",\"y\",\"line_alpha\",\"fill_alpha\",\"color\",\"label\",\"width\",\"line_color\"],\"data\":{\"chart_index\":[\"(8297.0, 10371.2]\"],\"color\":[\"#f22c40\"],\"fill_alpha\":[0.8],\"height\":[601524.0],\"label\":[\"(8297.0, 10371.2]\"],\"line_alpha\":[1.0],\"line_color\":[\"black\"],\"width\":[2074.25],\"x\":[\"9334.1\"],\"y\":[300762.0]}},\"id\":\"7cc7345f-0e24-454f-bbc0-62fb35766cfa\",\"type\":\"ColumnDataSource\"},{\"attributes\":{\"fill_alpha\":{\"field\":\"fill_alpha\"},\"fill_color\":{\"field\":\"color\"},\"height\":{\"field\":\"height\",\"units\":\"data\"},\"line_color\":{\"field\":\"line_color\"},\"width\":{\"field\":\"width\",\"units\":\"data\"},\"x\":{\"field\":\"x\"},\"y\":{\"field\":\"y\"}},\"id\":\"f2a5385e-6181-4d02-9c06-2ec0849463dd\",\"type\":\"Rect\"},{\"attributes\":{\"callback\":null,\"column_names\":[\"height\",\"x\",\"y\",\"line_alpha\",\"fill_alpha\",\"color\",\"label\",\"width\",\"line_color\"],\"data\":{\"chart_index\":[\"(22816.8, 24891.0]\"],\"color\":[\"#f22c40\"],\"fill_alpha\":[0.8],\"height\":[5805.0],\"label\":[\"(22816.8, 24891.0]\"],\"line_alpha\":[1.0],\"line_color\":[\"black\"],\"width\":[2074.25],\"x\":[\"23853.9\"],\"y\":[2902.5]}},\"id\":\"d3ad59a0-157a-47a2-baf5-f080bd6a07f4\",\"type\":\"ColumnDataSource\"},{\"attributes\":{\"overlay\":{\"id\":\"928a97df-ebdf-414b-9b3a-93e7e08c4056\",\"type\":\"BoxAnnotation\"},\"plot\":{\"id\":\"f2cd26a1-1e62-4e27-bd42-023e324d26ee\",\"subtype\":\"Chart\",\"type\":\"Plot\"}},\"id\":\"d2850369-c670-4a45-989f-75ad86441958\",\"type\":\"BoxZoomTool\"},{\"attributes\":{\"dimension\":1,\"plot\":{\"id\":\"f2cd26a1-1e62-4e27-bd42-023e324d26ee\",\"subtype\":\"Chart\",\"type\":\"Plot\"},\"ticker\":{\"id\":\"5e24e687-f01b-422f-ae2c-9537d758b915\",\"type\":\"BasicTicker\"}},\"id\":\"ad506afc-6971-42c9-8df0-5f7d663a645f\",\"type\":\"Grid\"},{\"attributes\":{\"plot\":{\"id\":\"f2cd26a1-1e62-4e27-bd42-023e324d26ee\",\"subtype\":\"Chart\",\"type\":\"Plot\"}},\"id\":\"da10ee1f-8b24-44f2-a6ee-f0296e5b5493\",\"type\":\"WheelZoomTool\"},{\"attributes\":{\"data_source\":{\"id\":\"cb4bc5d9-605a-4e22-a671-e64c9910999e\",\"type\":\"ColumnDataSource\"},\"glyph\":{\"id\":\"d07ba41f-fdb2-40ea-8279-780df4264fb4\",\"type\":\"Rect\"},\"hover_glyph\":null,\"nonselection_glyph\":null,\"selection_glyph\":null},\"id\":\"300673b2-7ca6-4c30-8aac-eaee73ddbdaa\",\"type\":\"GlyphRenderer\"},{\"attributes\":{\"plot\":{\"id\":\"f2cd26a1-1e62-4e27-bd42-023e324d26ee\",\"subtype\":\"Chart\",\"type\":\"Plot\"}},\"id\":\"2d9fedbd-481c-45ad-b3ef-cda93269ec3e\",\"type\":\"ResetTool\"},{\"attributes\":{},\"id\":\"5e24e687-f01b-422f-ae2c-9537d758b915\",\"type\":\"BasicTicker\"},{\"attributes\":{\"data_source\":{\"id\":\"e526ffec-89f4-48ee-a8b2-90e49f634387\",\"type\":\"ColumnDataSource\"},\"glyph\":{\"id\":\"0ce3297d-de4f-42db-aa83-9981cebff0b3\",\"type\":\"Rect\"},\"hover_glyph\":null,\"nonselection_glyph\":null,\"selection_glyph\":null},\"id\":\"4948a992-b334-46d5-9f57-d0633e9c6869\",\"type\":\"GlyphRenderer\"},{\"attributes\":{\"plot\":{\"id\":\"f2cd26a1-1e62-4e27-bd42-023e324d26ee\",\"subtype\":\"Chart\",\"type\":\"Plot\"}},\"id\":\"8741f441-8f6c-4c4b-b4a8-d9fc103eafca\",\"type\":\"HelpTool\"},{\"attributes\":{\"data_source\":{\"id\":\"0baabbf8-2501-44f6-b6c0-add7e2a054ef\",\"type\":\"ColumnDataSource\"},\"glyph\":{\"id\":\"4fece9e0-b83e-4658-a093-eae586ada84e\",\"type\":\"Rect\"},\"hover_glyph\":null,\"nonselection_glyph\":null,\"selection_glyph\":null},\"id\":\"1dd740ef-9891-4402-aa28-a5bc8df43821\",\"type\":\"GlyphRenderer\"},{\"attributes\":{\"callback\":null,\"column_names\":[\"height\",\"x\",\"y\",\"line_alpha\",\"fill_alpha\",\"color\",\"label\",\"width\",\"line_color\"],\"data\":{\"chart_index\":[\"(16594.0, 18668.2]\"],\"color\":[\"#f22c40\"],\"fill_alpha\":[0.8],\"height\":[54517.0],\"label\":[\"(16594.0, 18668.2]\"],\"line_alpha\":[1.0],\"line_color\":[\"black\"],\"width\":[2074.25],\"x\":[\"17631.1\"],\"y\":[27258.5]}},\"id\":\"06ef55a7-2b98-4e9e-9847-271a6e06722a\",\"type\":\"ColumnDataSource\"},{\"attributes\":{\"callback\":null,\"column_names\":[\"height\",\"x\",\"y\",\"line_alpha\",\"fill_alpha\",\"color\",\"label\",\"width\",\"line_color\"],\"data\":{\"chart_index\":[\"(39410.8, 41485.0]\"],\"color\":[\"#f22c40\"],\"fill_alpha\":[0.8],\"height\":[4.0],\"label\":[\"(39410.8, 41485.0]\"],\"line_alpha\":[1.0],\"line_color\":[\"black\"],\"width\":[2074.25],\"x\":[\"40447.9\"],\"y\":[2.0]}},\"id\":\"e526ffec-89f4-48ee-a8b2-90e49f634387\",\"type\":\"ColumnDataSource\"},{\"attributes\":{\"data_source\":{\"id\":\"81b57e8b-978f-4cd3-b0ea-143358016d3b\",\"type\":\"ColumnDataSource\"},\"glyph\":{\"id\":\"1c0f6aad-8456-4997-b3e6-2570192ae005\",\"type\":\"Rect\"},\"hover_glyph\":null,\"nonselection_glyph\":null,\"selection_glyph\":null},\"id\":\"6a84bc85-3288-4bcf-991f-fa7020af245b\",\"type\":\"GlyphRenderer\"},{\"attributes\":{\"data_source\":{\"id\":\"100f36d5-a602-432b-bdc7-130aa24c1258\",\"type\":\"ColumnDataSource\"},\"glyph\":{\"id\":\"04b5ddaa-53d0-435d-8054-c949fff6e618\",\"type\":\"Rect\"},\"hover_glyph\":null,\"nonselection_glyph\":null,\"selection_glyph\":null},\"id\":\"664950a4-c3c8-409f-8d12-5ed5ca61d581\",\"type\":\"GlyphRenderer\"},{\"attributes\":{\"callback\":null,\"column_names\":[\"height\",\"x\",\"y\",\"line_alpha\",\"fill_alpha\",\"color\",\"label\",\"width\",\"line_color\"],\"data\":{\"chart_index\":[\"[0.0, 2074.2]\"],\"color\":[\"#f22c40\"],\"fill_alpha\":[0.8],\"height\":[3640021.0],\"label\":[\"[0.0, 2074.2]\"],\"line_alpha\":[1.0],\"line_color\":[\"black\"],\"width\":[2074.25],\"x\":[\"1037.1\"],\"y\":[1820010.5]}},\"id\":\"f136864f-c71f-4046-a696-59d0588f4785\",\"type\":\"ColumnDataSource\"},{\"attributes\":{\"callback\":null,\"end\":4004023.1},\"id\":\"2fd59b03-cc7e-46b9-863a-2091fa3c307e\",\"type\":\"Range1d\"},{\"attributes\":{\"active_drag\":\"auto\",\"active_scroll\":\"auto\",\"active_tap\":\"auto\",\"tools\":[{\"id\":\"7fb7ab4f-7325-43c0-ba81-fbe130165c80\",\"type\":\"PanTool\"},{\"id\":\"da10ee1f-8b24-44f2-a6ee-f0296e5b5493\",\"type\":\"WheelZoomTool\"},{\"id\":\"d2850369-c670-4a45-989f-75ad86441958\",\"type\":\"BoxZoomTool\"},{\"id\":\"1a5b992a-cb5a-4b7e-bac1-0b6bfe4a957a\",\"type\":\"SaveTool\"},{\"id\":\"2d9fedbd-481c-45ad-b3ef-cda93269ec3e\",\"type\":\"ResetTool\"},{\"id\":\"8741f441-8f6c-4c4b-b4a8-d9fc103eafca\",\"type\":\"HelpTool\"}]},\"id\":\"761f133f-7878-4d83-b19f-3a967f044e83\",\"type\":\"Toolbar\"},{\"attributes\":{\"data_source\":{\"id\":\"06ef55a7-2b98-4e9e-9847-271a6e06722a\",\"type\":\"ColumnDataSource\"},\"glyph\":{\"id\":\"89553de4-3e87-4cf7-9a24-a5bcc5a40af1\",\"type\":\"Rect\"},\"hover_glyph\":null,\"nonselection_glyph\":null,\"selection_glyph\":null},\"id\":\"74179a10-f55d-4b58-991e-0f00ef4f0480\",\"type\":\"GlyphRenderer\"},{\"attributes\":{\"data_source\":{\"id\":\"7437865b-32eb-46ce-aebe-54ecf913b086\",\"type\":\"ColumnDataSource\"},\"glyph\":{\"id\":\"9d4527dd-5f4c-4efb-a780-4572f564dc92\",\"type\":\"Rect\"},\"hover_glyph\":null,\"nonselection_glyph\":null,\"selection_glyph\":null},\"id\":\"2a41af22-87fe-4886-a253-695ea09a9f77\",\"type\":\"GlyphRenderer\"},{\"attributes\":{\"data_source\":{\"id\":\"f136864f-c71f-4046-a696-59d0588f4785\",\"type\":\"ColumnDataSource\"},\"glyph\":{\"id\":\"f2a5385e-6181-4d02-9c06-2ec0849463dd\",\"type\":\"Rect\"},\"hover_glyph\":null,\"nonselection_glyph\":null,\"selection_glyph\":null},\"id\":\"52530114-3780-48f7-93c9-4b82d40445a6\",\"type\":\"GlyphRenderer\"},{\"attributes\":{\"bottom_units\":\"screen\",\"fill_alpha\":{\"value\":0.5},\"fill_color\":{\"value\":\"lightgrey\"},\"left_units\":\"screen\",\"level\":\"overlay\",\"line_alpha\":{\"value\":1.0},\"line_color\":{\"value\":\"black\"},\"line_dash\":[4,4],\"line_width\":{\"value\":2},\"plot\":null,\"render_mode\":\"css\",\"right_units\":\"screen\",\"top_units\":\"screen\"},\"id\":\"928a97df-ebdf-414b-9b3a-93e7e08c4056\",\"type\":\"BoxAnnotation\"},{\"attributes\":{\"fill_alpha\":{\"field\":\"fill_alpha\"},\"fill_color\":{\"field\":\"color\"},\"height\":{\"field\":\"height\",\"units\":\"data\"},\"line_color\":{\"field\":\"line_color\"},\"width\":{\"field\":\"width\",\"units\":\"data\"},\"x\":{\"field\":\"x\"},\"y\":{\"field\":\"y\"}},\"id\":\"7c5bacd4-f797-4aab-a882-7ae1b9766626\",\"type\":\"Rect\"},{\"attributes\":{\"data_source\":{\"id\":\"465816c5-134f-4b9c-ada1-62c0806c8e48\",\"type\":\"ColumnDataSource\"},\"glyph\":{\"id\":\"4127ee86-ba6c-4fc4-a6e8-312454aecbc1\",\"type\":\"Rect\"},\"hover_glyph\":null,\"nonselection_glyph\":null,\"selection_glyph\":null},\"id\":\"7f093bde-4d9c-4f9e-8a2a-fa97a2f606b0\",\"type\":\"GlyphRenderer\"},{\"attributes\":{\"callback\":null,\"column_names\":[\"height\",\"x\",\"y\",\"line_alpha\",\"fill_alpha\",\"color\",\"label\",\"width\",\"line_color\"],\"data\":{\"chart_index\":[\"(35262.2, 37336.5]\"],\"color\":[\"#f22c40\"],\"fill_alpha\":[0.8],\"height\":[15.0],\"label\":[\"(35262.2, 37336.5]\"],\"line_alpha\":[1.0],\"line_color\":[\"black\"],\"width\":[2074.25],\"x\":[\"36299.35\"],\"y\":[7.5]}},\"id\":\"4e47882a-5003-45ca-abe5-043e603d1bc9\",\"type\":\"ColumnDataSource\"},{\"attributes\":{\"fill_alpha\":{\"field\":\"fill_alpha\"},\"fill_color\":{\"field\":\"color\"},\"height\":{\"field\":\"height\",\"units\":\"data\"},\"line_color\":{\"field\":\"line_color\"},\"width\":{\"field\":\"width\",\"units\":\"data\"},\"x\":{\"field\":\"x\"},\"y\":{\"field\":\"y\"}},\"id\":\"1c0f6aad-8456-4997-b3e6-2570192ae005\",\"type\":\"Rect\"},{\"attributes\":{\"fill_alpha\":{\"field\":\"fill_alpha\"},\"fill_color\":{\"field\":\"color\"},\"height\":{\"field\":\"height\",\"units\":\"data\"},\"line_color\":{\"field\":\"line_color\"},\"width\":{\"field\":\"width\",\"units\":\"data\"},\"x\":{\"field\":\"x\"},\"y\":{\"field\":\"y\"}},\"id\":\"3dd207a6-004e-44b5-af34-735bd3f5c03f\",\"type\":\"Rect\"},{\"attributes\":{\"callback\":null,\"column_names\":[\"height\",\"x\",\"y\",\"line_alpha\",\"fill_alpha\",\"color\",\"label\",\"width\",\"line_color\"],\"data\":{\"chart_index\":[\"(37336.5, 39410.8]\"],\"color\":[\"#f22c40\"],\"fill_alpha\":[0.8],\"height\":[1.0],\"label\":[\"(37336.5, 39410.8]\"],\"line_alpha\":[1.0],\"line_color\":[\"black\"],\"width\":[2074.25],\"x\":[\"38373.65\"],\"y\":[0.5]}},\"id\":\"0baabbf8-2501-44f6-b6c0-add7e2a054ef\",\"type\":\"ColumnDataSource\"},{\"attributes\":{\"plot\":null,\"text\":\"Histogram of 'balance' using .Histogram()\"},\"id\":\"6ae1a89d-3e48-40a8-ab12-b386c8c1ccdb\",\"type\":\"Title\"},{\"attributes\":{},\"id\":\"dd961cc2-9517-4623-84fd-99b7d6957738\",\"type\":\"BasicTicker\"},{\"attributes\":{\"fill_alpha\":{\"field\":\"fill_alpha\"},\"fill_color\":{\"field\":\"color\"},\"height\":{\"field\":\"height\",\"units\":\"data\"},\"line_color\":{\"field\":\"line_color\"},\"width\":{\"field\":\"width\",\"units\":\"data\"},\"x\":{\"field\":\"x\"},\"y\":{\"field\":\"y\"}},\"id\":\"60c447d2-bc6d-428c-8302-36829bd24f8a\",\"type\":\"Rect\"},{\"attributes\":{\"fill_alpha\":{\"field\":\"fill_alpha\"},\"fill_color\":{\"field\":\"color\"},\"height\":{\"field\":\"height\",\"units\":\"data\"},\"line_color\":{\"field\":\"line_color\"},\"width\":{\"field\":\"width\",\"units\":\"data\"},\"x\":{\"field\":\"x\"},\"y\":{\"field\":\"y\"}},\"id\":\"d07ba41f-fdb2-40ea-8279-780df4264fb4\",\"type\":\"Rect\"},{\"attributes\":{\"data_source\":{\"id\":\"34f226dd-bce1-4e7d-97d0-708da96970e5\",\"type\":\"ColumnDataSource\"},\"glyph\":{\"id\":\"12d0dd97-89c9-4351-8f44-b9e466919f3a\",\"type\":\"Rect\"},\"hover_glyph\":null,\"nonselection_glyph\":null,\"selection_glyph\":null},\"id\":\"b8f1e8a0-9c9d-42ee-a792-fcebac050b53\",\"type\":\"GlyphRenderer\"},{\"attributes\":{\"fill_alpha\":{\"field\":\"fill_alpha\"},\"fill_color\":{\"field\":\"color\"},\"height\":{\"field\":\"height\",\"units\":\"data\"},\"line_color\":{\"field\":\"line_color\"},\"width\":{\"field\":\"width\",\"units\":\"data\"},\"x\":{\"field\":\"x\"},\"y\":{\"field\":\"y\"}},\"id\":\"9d4527dd-5f4c-4efb-a780-4572f564dc92\",\"type\":\"Rect\"},{\"attributes\":{\"data_source\":{\"id\":\"4e47882a-5003-45ca-abe5-043e603d1bc9\",\"type\":\"ColumnDataSource\"},\"glyph\":{\"id\":\"6d26eb93-4ac7-4b6f-bb4b-9e06b5e7edd2\",\"type\":\"Rect\"},\"hover_glyph\":null,\"nonselection_glyph\":null,\"selection_glyph\":null},\"id\":\"1f2631c2-2977-4407-8b15-108649633a8d\",\"type\":\"GlyphRenderer\"},{\"attributes\":{\"callback\":null,\"column_names\":[\"height\",\"x\",\"y\",\"line_alpha\",\"fill_alpha\",\"color\",\"label\",\"width\",\"line_color\"],\"data\":{\"chart_index\":[\"(2074.2, 4148.5]\"],\"color\":[\"#f22c40\"],\"fill_alpha\":[0.8],\"height\":[2258778.0],\"label\":[\"(2074.2, 4148.5]\"],\"line_alpha\":[1.0],\"line_color\":[\"black\"],\"width\":[2074.25],\"x\":[\"3111.35\"],\"y\":[1129389.0]}},\"id\":\"34f226dd-bce1-4e7d-97d0-708da96970e5\",\"type\":\"ColumnDataSource\"},{\"attributes\":{\"data_source\":{\"id\":\"d3ad59a0-157a-47a2-baf5-f080bd6a07f4\",\"type\":\"ColumnDataSource\"},\"glyph\":{\"id\":\"60c447d2-bc6d-428c-8302-36829bd24f8a\",\"type\":\"Rect\"},\"hover_glyph\":null,\"nonselection_glyph\":null,\"selection_glyph\":null},\"id\":\"5a3a4f9b-fd2f-4839-8a00-393dffaf2878\",\"type\":\"GlyphRenderer\"},{\"attributes\":{\"fill_alpha\":{\"field\":\"fill_alpha\"},\"fill_color\":{\"field\":\"color\"},\"height\":{\"field\":\"height\",\"units\":\"data\"},\"line_color\":{\"field\":\"line_color\"},\"width\":{\"field\":\"width\",\"units\":\"data\"},\"x\":{\"field\":\"x\"},\"y\":{\"field\":\"y\"}},\"id\":\"a5b378b4-444a-49f6-b3e1-895b8414cc66\",\"type\":\"Rect\"},{\"attributes\":{\"callback\":null,\"column_names\":[\"height\",\"x\",\"y\",\"line_alpha\",\"fill_alpha\",\"color\",\"label\",\"width\",\"line_color\"],\"data\":{\"chart_index\":[\"(10371.2, 12445.5]\"],\"color\":[\"#f22c40\"],\"fill_alpha\":[0.8],\"height\":[343461.0],\"label\":[\"(10371.2, 12445.5]\"],\"line_alpha\":[1.0],\"line_color\":[\"black\"],\"width\":[2074.25],\"x\":[\"11408.35\"],\"y\":[171730.5]}},\"id\":\"d6c2ef2c-5a26-4d0b-843b-3e4095746f0c\",\"type\":\"ColumnDataSource\"},{\"attributes\":{\"fill_alpha\":{\"field\":\"fill_alpha\"},\"fill_color\":{\"field\":\"color\"},\"height\":{\"field\":\"height\",\"units\":\"data\"},\"line_color\":{\"field\":\"line_color\"},\"width\":{\"field\":\"width\",\"units\":\"data\"},\"x\":{\"field\":\"x\"},\"y\":{\"field\":\"y\"}},\"id\":\"89553de4-3e87-4cf7-9a24-a5bcc5a40af1\",\"type\":\"Rect\"},{\"attributes\":{\"data_source\":{\"id\":\"04a59d1e-d798-461b-8fdc-7d1c37660ccb\",\"type\":\"ColumnDataSource\"},\"glyph\":{\"id\":\"95018f8b-34c9-41e3-9ee7-a45d8cc310ec\",\"type\":\"Rect\"},\"hover_glyph\":null,\"nonselection_glyph\":null,\"selection_glyph\":null},\"id\":\"7d9cbf05-d714-4291-a6af-03cfa9d1f62c\",\"type\":\"GlyphRenderer\"},{\"attributes\":{},\"id\":\"01827a6c-0f02-45b0-8249-ee998fe2a892\",\"type\":\"BasicTickFormatter\"},{\"attributes\":{\"fill_alpha\":{\"field\":\"fill_alpha\"},\"fill_color\":{\"field\":\"color\"},\"height\":{\"field\":\"height\",\"units\":\"data\"},\"line_color\":{\"field\":\"line_color\"},\"width\":{\"field\":\"width\",\"units\":\"data\"},\"x\":{\"field\":\"x\"},\"y\":{\"field\":\"y\"}},\"id\":\"95018f8b-34c9-41e3-9ee7-a45d8cc310ec\",\"type\":\"Rect\"},{\"attributes\":{\"fill_alpha\":{\"field\":\"fill_alpha\"},\"fill_color\":{\"field\":\"color\"},\"height\":{\"field\":\"height\",\"units\":\"data\"},\"line_color\":{\"field\":\"line_color\"},\"width\":{\"field\":\"width\",\"units\":\"data\"},\"x\":{\"field\":\"x\"},\"y\":{\"field\":\"y\"}},\"id\":\"ff038a63-843d-4099-90e6-4a9b017067a5\",\"type\":\"Rect\"},{\"attributes\":{\"fill_alpha\":{\"field\":\"fill_alpha\"},\"fill_color\":{\"field\":\"color\"},\"height\":{\"field\":\"height\",\"units\":\"data\"},\"line_color\":{\"field\":\"line_color\"},\"width\":{\"field\":\"width\",\"units\":\"data\"},\"x\":{\"field\":\"x\"},\"y\":{\"field\":\"y\"}},\"id\":\"04b5ddaa-53d0-435d-8054-c949fff6e618\",\"type\":\"Rect\"},{\"attributes\":{\"callback\":null,\"column_names\":[\"height\",\"x\",\"y\",\"line_alpha\",\"fill_alpha\",\"color\",\"label\",\"width\",\"line_color\"],\"data\":{\"chart_index\":[\"(31113.8, 33188.0]\"],\"color\":[\"#f22c40\"],\"fill_alpha\":[0.8],\"height\":[127.0],\"label\":[\"(31113.8, 33188.0]\"],\"line_alpha\":[1.0],\"line_color\":[\"black\"],\"width\":[2074.25],\"x\":[\"32150.9\"],\"y\":[63.5]}},\"id\":\"04a59d1e-d798-461b-8fdc-7d1c37660ccb\",\"type\":\"ColumnDataSource\"},{\"attributes\":{\"callback\":null,\"column_names\":[\"height\",\"x\",\"y\",\"line_alpha\",\"fill_alpha\",\"color\",\"label\",\"width\",\"line_color\"],\"data\":{\"chart_index\":[\"(20742.5, 22816.8]\"],\"color\":[\"#f22c40\"],\"fill_alpha\":[0.8],\"height\":[13117.0],\"label\":[\"(20742.5, 22816.8]\"],\"line_alpha\":[1.0],\"line_color\":[\"black\"],\"width\":[2074.25],\"x\":[\"21779.65\"],\"y\":[6558.5]}},\"id\":\"92963568-7f1e-4a01-945c-bc0e73cd1189\",\"type\":\"ColumnDataSource\"},{\"attributes\":{\"data_source\":{\"id\":\"d6c2ef2c-5a26-4d0b-843b-3e4095746f0c\",\"type\":\"ColumnDataSource\"},\"glyph\":{\"id\":\"ff038a63-843d-4099-90e6-4a9b017067a5\",\"type\":\"Rect\"},\"hover_glyph\":null,\"nonselection_glyph\":null,\"selection_glyph\":null},\"id\":\"01a564da-42bd-4323-bb24-dafbaaedadd9\",\"type\":\"GlyphRenderer\"},{\"attributes\":{\"axis_label\":\"Count( Obs )\",\"formatter\":{\"id\":\"0e1cdd57-3456-4e30-8235-73fc160f3942\",\"type\":\"BasicTickFormatter\"},\"plot\":{\"id\":\"f2cd26a1-1e62-4e27-bd42-023e324d26ee\",\"subtype\":\"Chart\",\"type\":\"Plot\"},\"ticker\":{\"id\":\"5e24e687-f01b-422f-ae2c-9537d758b915\",\"type\":\"BasicTicker\"}},\"id\":\"bed47eb1-dc92-4339-b055-b48fd5754f17\",\"type\":\"LinearAxis\"},{\"attributes\":{\"plot\":{\"id\":\"f2cd26a1-1e62-4e27-bd42-023e324d26ee\",\"subtype\":\"Chart\",\"type\":\"Plot\"}},\"id\":\"7fb7ab4f-7325-43c0-ba81-fbe130165c80\",\"type\":\"PanTool\"},{\"attributes\":{\"fill_alpha\":{\"field\":\"fill_alpha\"},\"fill_color\":{\"field\":\"color\"},\"height\":{\"field\":\"height\",\"units\":\"data\"},\"line_color\":{\"field\":\"line_color\"},\"width\":{\"field\":\"width\",\"units\":\"data\"},\"x\":{\"field\":\"x\"},\"y\":{\"field\":\"y\"}},\"id\":\"6d26eb93-4ac7-4b6f-bb4b-9e06b5e7edd2\",\"type\":\"Rect\"},{\"attributes\":{\"axis_label\":\"obs\",\"formatter\":{\"id\":\"01827a6c-0f02-45b0-8249-ee998fe2a892\",\"type\":\"BasicTickFormatter\"},\"plot\":{\"id\":\"f2cd26a1-1e62-4e27-bd42-023e324d26ee\",\"subtype\":\"Chart\",\"type\":\"Plot\"},\"ticker\":{\"id\":\"dd961cc2-9517-4623-84fd-99b7d6957738\",\"type\":\"BasicTicker\"}},\"id\":\"45d622f3-5688-4224-838c-97ec52ff5d96\",\"type\":\"LinearAxis\"},{\"attributes\":{\"fill_alpha\":{\"field\":\"fill_alpha\"},\"fill_color\":{\"field\":\"color\"},\"height\":{\"field\":\"height\",\"units\":\"data\"},\"line_color\":{\"field\":\"line_color\"},\"width\":{\"field\":\"width\",\"units\":\"data\"},\"x\":{\"field\":\"x\"},\"y\":{\"field\":\"y\"}},\"id\":\"9c3d5429-1a8c-4e49-ae4d-67a3ff3c63eb\",\"type\":\"Rect\"},{\"attributes\":{\"callback\":null,\"column_names\":[\"height\",\"x\",\"y\",\"line_alpha\",\"fill_alpha\",\"color\",\"label\",\"width\",\"line_color\"],\"data\":{\"chart_index\":[\"(26965.2, 29039.5]\"],\"color\":[\"#f22c40\"],\"fill_alpha\":[0.8],\"height\":[1103.0],\"label\":[\"(26965.2, 29039.5]\"],\"line_alpha\":[1.0],\"line_color\":[\"black\"],\"width\":[2074.25],\"x\":[\"28002.35\"],\"y\":[551.5]}},\"id\":\"7437865b-32eb-46ce-aebe-54ecf913b086\",\"type\":\"ColumnDataSource\"},{\"attributes\":{\"data_source\":{\"id\":\"00c965f3-51f2-4573-a8aa-2a308de0ba30\",\"type\":\"ColumnDataSource\"},\"glyph\":{\"id\":\"7c5bacd4-f797-4aab-a882-7ae1b9766626\",\"type\":\"Rect\"},\"hover_glyph\":null,\"nonselection_glyph\":null,\"selection_glyph\":null},\"id\":\"4f464dd6-b961-4a18-96b4-e501261357ce\",\"type\":\"GlyphRenderer\"},{\"attributes\":{\"callback\":null,\"column_names\":[\"height\",\"x\",\"y\",\"line_alpha\",\"fill_alpha\",\"color\",\"label\",\"width\",\"line_color\"],\"data\":{\"chart_index\":[\"(18668.2, 20742.5]\"],\"color\":[\"#f22c40\"],\"fill_alpha\":[0.8],\"height\":[27570.0],\"label\":[\"(18668.2, 20742.5]\"],\"line_alpha\":[1.0],\"line_color\":[\"black\"],\"width\":[2074.25],\"x\":[\"19705.35\"],\"y\":[13785.0]}},\"id\":\"50142f89-6300-4013-bf09-353a17038840\",\"type\":\"ColumnDataSource\"},{\"attributes\":{\"callback\":null,\"column_names\":[\"height\",\"x\",\"y\",\"line_alpha\",\"fill_alpha\",\"color\",\"label\",\"width\",\"line_color\"],\"data\":{\"chart_index\":[\"(14519.8, 16594.0]\"],\"color\":[\"#f22c40\"],\"fill_alpha\":[0.8],\"height\":[104486.0],\"label\":[\"(14519.8, 16594.0]\"],\"line_alpha\":[1.0],\"line_color\":[\"black\"],\"width\":[2074.25],\"x\":[\"15556.9\"],\"y\":[52243.0]}},\"id\":\"cb4bc5d9-605a-4e22-a671-e64c9910999e\",\"type\":\"ColumnDataSource\"},{\"attributes\":{\"fill_alpha\":{\"field\":\"fill_alpha\"},\"fill_color\":{\"field\":\"color\"},\"height\":{\"field\":\"height\",\"units\":\"data\"},\"line_color\":{\"field\":\"line_color\"},\"width\":{\"field\":\"width\",\"units\":\"data\"},\"x\":{\"field\":\"x\"},\"y\":{\"field\":\"y\"}},\"id\":\"74dd3bdc-c75b-47a1-a8a7-8d29456cf0fc\",\"type\":\"Rect\"},{\"attributes\":{\"data_source\":{\"id\":\"7cc7345f-0e24-454f-bbc0-62fb35766cfa\",\"type\":\"ColumnDataSource\"},\"glyph\":{\"id\":\"a5b378b4-444a-49f6-b3e1-895b8414cc66\",\"type\":\"Rect\"},\"hover_glyph\":null,\"nonselection_glyph\":null,\"selection_glyph\":null},\"id\":\"f40177a8-8ee1-470b-ae68-690cabbb7c07\",\"type\":\"GlyphRenderer\"},{\"attributes\":{\"below\":[{\"id\":\"45d622f3-5688-4224-838c-97ec52ff5d96\",\"type\":\"LinearAxis\"}],\"left\":[{\"id\":\"bed47eb1-dc92-4339-b055-b48fd5754f17\",\"type\":\"LinearAxis\"}],\"renderers\":[{\"id\":\"928a97df-ebdf-414b-9b3a-93e7e08c4056\",\"type\":\"BoxAnnotation\"},{\"id\":\"52530114-3780-48f7-93c9-4b82d40445a6\",\"type\":\"GlyphRenderer\"},{\"id\":\"b8f1e8a0-9c9d-42ee-a792-fcebac050b53\",\"type\":\"GlyphRenderer\"},{\"id\":\"082794bc-0365-45e9-a127-271eac448d58\",\"type\":\"GlyphRenderer\"},{\"id\":\"4f464dd6-b961-4a18-96b4-e501261357ce\",\"type\":\"GlyphRenderer\"},{\"id\":\"f40177a8-8ee1-470b-ae68-690cabbb7c07\",\"type\":\"GlyphRenderer\"},{\"id\":\"01a564da-42bd-4323-bb24-dafbaaedadd9\",\"type\":\"GlyphRenderer\"},{\"id\":\"18b87a95-b417-4420-87a9-820611dcf269\",\"type\":\"GlyphRenderer\"},{\"id\":\"300673b2-7ca6-4c30-8aac-eaee73ddbdaa\",\"type\":\"GlyphRenderer\"},{\"id\":\"74179a10-f55d-4b58-991e-0f00ef4f0480\",\"type\":\"GlyphRenderer\"},{\"id\":\"b280a521-a893-4350-b6a4-c5af0e92d723\",\"type\":\"GlyphRenderer\"},{\"id\":\"ea364842-6de4-4498-8606-6ee8d357af40\",\"type\":\"GlyphRenderer\"},{\"id\":\"5a3a4f9b-fd2f-4839-8a00-393dffaf2878\",\"type\":\"GlyphRenderer\"},{\"id\":\"664950a4-c3c8-409f-8d12-5ed5ca61d581\",\"type\":\"GlyphRenderer\"},{\"id\":\"2a41af22-87fe-4886-a253-695ea09a9f77\",\"type\":\"GlyphRenderer\"},{\"id\":\"7f093bde-4d9c-4f9e-8a2a-fa97a2f606b0\",\"type\":\"GlyphRenderer\"},{\"id\":\"7d9cbf05-d714-4291-a6af-03cfa9d1f62c\",\"type\":\"GlyphRenderer\"},{\"id\":\"6a84bc85-3288-4bcf-991f-fa7020af245b\",\"type\":\"GlyphRenderer\"},{\"id\":\"1f2631c2-2977-4407-8b15-108649633a8d\",\"type\":\"GlyphRenderer\"},{\"id\":\"1dd740ef-9891-4402-aa28-a5bc8df43821\",\"type\":\"GlyphRenderer\"},{\"id\":\"4948a992-b334-46d5-9f57-d0633e9c6869\",\"type\":\"GlyphRenderer\"},{\"id\":\"5d68529b-bbb8-4b49-8a63-f2e1c169a3d1\",\"type\":\"Legend\"},{\"id\":\"45d622f3-5688-4224-838c-97ec52ff5d96\",\"type\":\"LinearAxis\"},{\"id\":\"bed47eb1-dc92-4339-b055-b48fd5754f17\",\"type\":\"LinearAxis\"},{\"id\":\"ad506afc-6971-42c9-8df0-5f7d663a645f\",\"type\":\"Grid\"}],\"title\":{\"id\":\"6ae1a89d-3e48-40a8-ab12-b386c8c1ccdb\",\"type\":\"Title\"},\"tool_events\":{\"id\":\"b8f919a2-777f-42a9-9407-b094b45e3733\",\"type\":\"ToolEvents\"},\"toolbar\":{\"id\":\"761f133f-7878-4d83-b19f-3a967f044e83\",\"type\":\"Toolbar\"},\"x_mapper_type\":\"auto\",\"x_range\":{\"id\":\"156300d4-5cd2-4e29-9ae5-d4600f37535a\",\"type\":\"Range1d\"},\"y_mapper_type\":\"auto\",\"y_range\":{\"id\":\"2fd59b03-cc7e-46b9-863a-2091fa3c307e\",\"type\":\"Range1d\"}},\"id\":\"f2cd26a1-1e62-4e27-bd42-023e324d26ee\",\"subtype\":\"Chart\",\"type\":\"Plot\"},{\"attributes\":{\"location\":\"top_left\",\"plot\":{\"id\":\"f2cd26a1-1e62-4e27-bd42-023e324d26ee\",\"subtype\":\"Chart\",\"type\":\"Plot\"}},\"id\":\"5d68529b-bbb8-4b49-8a63-f2e1c169a3d1\",\"type\":\"Legend\"},{\"attributes\":{},\"id\":\"0e1cdd57-3456-4e30-8235-73fc160f3942\",\"type\":\"BasicTickFormatter\"},{\"attributes\":{\"data_source\":{\"id\":\"46fb01e3-0404-49d7-9049-23b9b3b0ab3a\",\"type\":\"ColumnDataSource\"},\"glyph\":{\"id\":\"9c3d5429-1a8c-4e49-ae4d-67a3ff3c63eb\",\"type\":\"Rect\"},\"hover_glyph\":null,\"nonselection_glyph\":null,\"selection_glyph\":null},\"id\":\"18b87a95-b417-4420-87a9-820611dcf269\",\"type\":\"GlyphRenderer\"},{\"attributes\":{\"callback\":null,\"column_names\":[\"height\",\"x\",\"y\",\"line_alpha\",\"fill_alpha\",\"color\",\"label\",\"width\",\"line_color\"],\"data\":{\"chart_index\":[\"(29039.5, 31113.8]\"],\"color\":[\"#f22c40\"],\"fill_alpha\":[0.8],\"height\":[358.0],\"label\":[\"(29039.5, 31113.8]\"],\"line_alpha\":[1.0],\"line_color\":[\"black\"],\"width\":[2074.25],\"x\":[\"30076.65\"],\"y\":[179.0]}},\"id\":\"465816c5-134f-4b9c-ada1-62c0806c8e48\",\"type\":\"ColumnDataSource\"},{\"attributes\":{\"data_source\":{\"id\":\"8f79ac2e-b5a8-4cdd-ab6e-2aaef06999fe\",\"type\":\"ColumnDataSource\"},\"glyph\":{\"id\":\"74dd3bdc-c75b-47a1-a8a7-8d29456cf0fc\",\"type\":\"Rect\"},\"hover_glyph\":null,\"nonselection_glyph\":null,\"selection_glyph\":null},\"id\":\"082794bc-0365-45e9-a127-271eac448d58\",\"type\":\"GlyphRenderer\"},{\"attributes\":{\"data_source\":{\"id\":\"50142f89-6300-4013-bf09-353a17038840\",\"type\":\"ColumnDataSource\"},\"glyph\":{\"id\":\"4120e9ff-7044-459a-a62a-a0f37232e25e\",\"type\":\"Rect\"},\"hover_glyph\":null,\"nonselection_glyph\":null,\"selection_glyph\":null},\"id\":\"b280a521-a893-4350-b6a4-c5af0e92d723\",\"type\":\"GlyphRenderer\"},{\"attributes\":{\"callback\":null,\"column_names\":[\"height\",\"x\",\"y\",\"line_alpha\",\"fill_alpha\",\"color\",\"label\",\"width\",\"line_color\"],\"data\":{\"chart_index\":[\"(24891.0, 26965.2]\"],\"color\":[\"#f22c40\"],\"fill_alpha\":[0.8],\"height\":[2650.0],\"label\":[\"(24891.0, 26965.2]\"],\"line_alpha\":[1.0],\"line_color\":[\"black\"],\"width\":[2074.25],\"x\":[\"25928.1\"],\"y\":[1325.0]}},\"id\":\"100f36d5-a602-432b-bdc7-130aa24c1258\",\"type\":\"ColumnDataSource\"},{\"attributes\":{\"callback\":null,\"end\":42522.15,\"start\":-1037.15},\"id\":\"156300d4-5cd2-4e29-9ae5-d4600f37535a\",\"type\":\"Range1d\"}],\"root_ids\":[\"f2cd26a1-1e62-4e27-bd42-023e324d26ee\"]},\"title\":\"Bokeh Application\",\"version\":\"0.12.2\"}};\n",
       "            var render_items = [{\"docid\":\"01f47863-4164-4264-9cb1-7daf24e7bd87\",\"elementid\":\"e726f15f-3d8c-4f5e-b2bb-1ae3ba7a12b4\",\"modelid\":\"f2cd26a1-1e62-4e27-bd42-023e324d26ee\"}];\n",
       "            \n",
       "            Bokeh.embed.embed_items(docs_json, render_items);\n",
       "        });\n",
       "      },\n",
       "      function(Bokeh) {\n",
       "      }\n",
       "    ];\n",
       "  \n",
       "    function run_inline_js() {\n",
       "      \n",
       "      if ((window.Bokeh !== undefined) || (force === \"1\")) {\n",
       "        for (var i = 0; i < inline_js.length; i++) {\n",
       "          inline_js[i](window.Bokeh);\n",
       "        }if (force === \"1\") {\n",
       "          display_loaded();\n",
       "        }} else if (Date.now() < window._bokeh_timeout) {\n",
       "        setTimeout(run_inline_js, 100);\n",
       "      } else if (!window._bokeh_failed_load) {\n",
       "        console.log(\"Bokeh: BokehJS failed to load within specified timeout.\");\n",
       "        window._bokeh_failed_load = true;\n",
       "      } else if (!force) {\n",
       "        var cell = $(\"#e726f15f-3d8c-4f5e-b2bb-1ae3ba7a12b4\").parents('.cell').data().cell;\n",
       "        cell.output_area.append_execute_result(NB_LOAD_WARNING)\n",
       "      }\n",
       "  \n",
       "    }\n",
       "  \n",
       "    if (window._bokeh_is_loading === 0) {\n",
       "      console.log(\"Bokeh: BokehJS loaded, going straight to plotting\");\n",
       "      run_inline_js();\n",
       "    } else {\n",
       "      load_libs(js_urls, function() {\n",
       "        console.log(\"Bokeh: BokehJS plotting callback run at\", now());\n",
       "        run_inline_js();\n",
       "      });\n",
       "    }\n",
       "  }(this));\n",
       "</script>"
      ]
     },
     "metadata": {},
     "output_type": "display_data"
    }
   ],
   "source": [
    "b_hist_driver = chrt.Histogram(data_driver, values='obs', title='Histogram of \\'balance\\' using .Histogram()', bins=20)\n",
    "chrt.show(b_hist_driver)"
   ]
  },
  {
   "cell_type": "markdown",
   "metadata": {},
   "source": [
    "### Interactions between features"
   ]
  },
  {
   "cell_type": "markdown",
   "metadata": {},
   "source": [
    "In this example we will sample our fraud dataset at 1% given gender as strata."
   ]
  },
  {
   "cell_type": "code",
   "execution_count": 186,
   "metadata": {
    "collapsed": true
   },
   "outputs": [],
   "source": [
    "data_sample = fraud_pd.sampleBy('gender', {1: 0.0002, 2: 0.0002}).select(numerical)"
   ]
  },
  {
   "cell_type": "markdown",
   "metadata": {},
   "source": [
    "To put multiple 2D charts in one go you can use"
   ]
  },
  {
   "cell_type": "code",
   "execution_count": 189,
   "metadata": {
    "collapsed": false
   },
   "outputs": [
    {
     "data": {
      "text/html": [
       "\n",
       "\n",
       "    <div class=\"bk-root\">\n",
       "        <div class=\"plotdiv\" id=\"af3ed689-e5c7-4912-83fb-fcba67279ebb\"></div>\n",
       "    </div>\n",
       "<script type=\"text/javascript\">\n",
       "  \n",
       "  (function(global) {\n",
       "    function now() {\n",
       "      return new Date();\n",
       "    }\n",
       "  \n",
       "    var force = \"\";\n",
       "  \n",
       "    if (typeof (window._bokeh_onload_callbacks) === \"undefined\" || force !== \"\") {\n",
       "      window._bokeh_onload_callbacks = [];\n",
       "      window._bokeh_is_loading = undefined;\n",
       "    }\n",
       "  \n",
       "  \n",
       "    \n",
       "    if (typeof (window._bokeh_timeout) === \"undefined\" || force !== \"\") {\n",
       "      window._bokeh_timeout = Date.now() + 0;\n",
       "      window._bokeh_failed_load = false;\n",
       "    }\n",
       "  \n",
       "    var NB_LOAD_WARNING = {'data': {'text/html':\n",
       "       \"<div style='background-color: #fdd'>\\n\"+\n",
       "       \"<p>\\n\"+\n",
       "       \"BokehJS does not appear to have successfully loaded. If loading BokehJS from CDN, this \\n\"+\n",
       "       \"may be due to a slow or bad network connection. Possible fixes:\\n\"+\n",
       "       \"</p>\\n\"+\n",
       "       \"<ul>\\n\"+\n",
       "       \"<li>re-rerun `output_notebook()` to attempt to load from CDN again, or</li>\\n\"+\n",
       "       \"<li>use INLINE resources instead, as so:</li>\\n\"+\n",
       "       \"</ul>\\n\"+\n",
       "       \"<code>\\n\"+\n",
       "       \"from bokeh.resources import INLINE\\n\"+\n",
       "       \"output_notebook(resources=INLINE)\\n\"+\n",
       "       \"</code>\\n\"+\n",
       "       \"</div>\"}};\n",
       "  \n",
       "    function display_loaded() {\n",
       "      if (window.Bokeh !== undefined) {\n",
       "        Bokeh.$(\"#af3ed689-e5c7-4912-83fb-fcba67279ebb\").text(\"BokehJS successfully loaded.\");\n",
       "      } else if (Date.now() < window._bokeh_timeout) {\n",
       "        setTimeout(display_loaded, 100)\n",
       "      }\n",
       "    }\n",
       "  \n",
       "    function run_callbacks() {\n",
       "      window._bokeh_onload_callbacks.forEach(function(callback) { callback() });\n",
       "      delete window._bokeh_onload_callbacks\n",
       "      console.info(\"Bokeh: all callbacks have finished\");\n",
       "    }\n",
       "  \n",
       "    function load_libs(js_urls, callback) {\n",
       "      window._bokeh_onload_callbacks.push(callback);\n",
       "      if (window._bokeh_is_loading > 0) {\n",
       "        console.log(\"Bokeh: BokehJS is being loaded, scheduling callback at\", now());\n",
       "        return null;\n",
       "      }\n",
       "      if (js_urls == null || js_urls.length === 0) {\n",
       "        run_callbacks();\n",
       "        return null;\n",
       "      }\n",
       "      console.log(\"Bokeh: BokehJS not loaded, scheduling load and callback at\", now());\n",
       "      window._bokeh_is_loading = js_urls.length;\n",
       "      for (var i = 0; i < js_urls.length; i++) {\n",
       "        var url = js_urls[i];\n",
       "        var s = document.createElement('script');\n",
       "        s.src = url;\n",
       "        s.async = false;\n",
       "        s.onreadystatechange = s.onload = function() {\n",
       "          window._bokeh_is_loading--;\n",
       "          if (window._bokeh_is_loading === 0) {\n",
       "            console.log(\"Bokeh: all BokehJS libraries loaded\");\n",
       "            run_callbacks()\n",
       "          }\n",
       "        };\n",
       "        s.onerror = function() {\n",
       "          console.warn(\"failed to load library \" + url);\n",
       "        };\n",
       "        console.log(\"Bokeh: injecting script tag for BokehJS library: \", url);\n",
       "        document.getElementsByTagName(\"head\")[0].appendChild(s);\n",
       "      }\n",
       "    };var element = document.getElementById(\"af3ed689-e5c7-4912-83fb-fcba67279ebb\");\n",
       "    if (element == null) {\n",
       "      console.log(\"Bokeh: ERROR: autoload.js configured with elementid 'af3ed689-e5c7-4912-83fb-fcba67279ebb' but no matching script tag was found. \")\n",
       "      return false;\n",
       "    }\n",
       "  \n",
       "    var js_urls = [];\n",
       "  \n",
       "    var inline_js = [\n",
       "      function(Bokeh) {\n",
       "        Bokeh.$(function() {\n",
       "            var docs_json = {\"02ce4cb8-c9b9-4799-a852-40f033c8e790\":{\"roots\":{\"references\":[{\"attributes\":{\"dimension\":1,\"plot\":{\"id\":\"36b13273-9d90-428c-81f1-b0572096d65a\",\"subtype\":\"Chart\",\"type\":\"Plot\"},\"ticker\":{\"id\":\"9d6ffddb-9533-413e-8919-6f8182adcedf\",\"type\":\"BasicTicker\"}},\"id\":\"61e34e05-a7c0-45f2-8914-748d1d8c7e57\",\"type\":\"Grid\"},{\"attributes\":{\"callback\":null,\"column_names\":[\"x_values\",\"y_values\"],\"data\":{\"chart_index\":[null,null,null,null,null,null,null,null,null,null,null,null,null,null,null,null,null,null,null,null,null,null,null,null,null,null,null,null,null,null,null,null,null,null,null,null,null,null,null,null,null,null,null,null,null,null,null,null,null,null,null,null,null,null,null,null,null,null,null,null,null,null,null,null,null,null,null,null,null,null,null,null,null,null,null,null,null,null,null,null,null,null,null,null,null,null,null,null,null,null,null,null,null,null,null,null,null,null,null,null,null,null,null,null,null,null,null,null,null,null,null,null,null,null,null,null,null,null,null,null,null,null,null,null,null,null,null,null,null,null,null,null,null,null,null,null,null,null,null,null,null,null,null,null,null,null,null,null,null,null,null,null,null,null,null,null,null,null,null,null,null,null,null,null,null,null,null,null,null,null,null,null,null,null,null,null,null,null,null,null,null,null,null,null,null,null,null,null,null,null,null,null,null,null,null,null,null,null,null,null,null,null,null,null,null,null,null,null,null,null,null,null,null,null,null,null,null,null,null,null,null,null,null,null,null,null,null,null,null,null,null,null,null,null,null,null,null,null,null,null,null,null,null,null,null,null,null,null,null,null,null,null,null,null,null,null,null,null,null,null,null,null,null,null,null,null,null,null,null,null,null,null,null,null,null,null,null,null,null,null,null,null,null,null,null,null,null,null,null,null,null,null,null,null,null,null,null,null,null,null,null,null,null,null,null,null,null,null,null,null,null,null,null,null,null,null,null,null,null,null,null,null,null,null,null,null,null,null,null,null,null,null,null,null,null,null,null,null,null,null,null,null,null,null,null,null,null,null,null,null,null,null,null,null,null,null,null,null,null,null,null,null,null,null,null,null,null,null,null,null,null,null,null,null,null,null,null,null,null,null,null,null,null,null,null,null,null,null,null,null,null,null,null,null,null,null,null,null,null,null,null,null,null,null,null,null,null,null,null,null,null,null,null,null,null,null,null,null,null,null,null,null,null,null,null,null,null,null,null,null,null,null,null,null,null,null,null,null,null,null,null,null,null,null,null,null,null,null,null,null,null,null,null,null,null,null,null,null,null,null,null,null,null,null,null,null,null,null,null,null,null,null,null,null,null,null,null,null,null,null,null,null,null,null,null,null,null,null,null,null,null,null,null,null,null,null,null,null,null,null,null,null,null,null,null,null,null,null,null,null,null,null,null,null,null,null,null,null,null,null,null,null,null,null,null,null,null,null,null,null,null,null,null,null,null,null,null,null,null,null,null,null,null,null,null,null,null,null,null,null,null,null,null,null,null,null,null,null,null,null,null,null,null,null,null,null,null,null,null,null,null,null,null,null,null,null,null,null,null,null,null,null,null,null,null,null,null,null,null,null,null,null,null,null,null,null,null,null,null,null,null,null,null,null,null,null,null,null,null,null,null,null,null,null,null,null,null,null,null,null,null,null,null,null,null,null,null,null,null,null,null,null,null,null,null,null,null,null,null,null,null,null,null,null,null,null,null,null,null,null,null,null,null,null,null,null,null,null,null,null,null,null,null,null,null,null,null,null,null,null,null,null,null,null,null,null,null,null,null,null,null,null,null,null,null,null,null,null,null,null,null,null,null,null,null,null,null,null,null,null,null,null,null,null,null,null,null,null,null,null,null,null,null,null,null,null,null,null,null,null,null,null,null,null,null,null,null,null,null,null,null,null,null,null,null,null,null,null,null,null,null,null,null,null,null,null,null,null,null,null,null,null,null,null,null,null,null,null,null,null,null,null,null,null,null,null,null,null,null,null,null,null,null,null,null,null,null,null,null,null,null,null,null,null,null,null,null,null,null,null,null,null,null,null,null,null,null,null,null,null,null,null,null,null,null,null,null,null,null,null,null,null,null,null,null,null,null,null,null,null,null,null,null,null,null,null,null,null,null,null,null,null,null,null,null,null,null,null,null,null,null,null,null,null,null,null,null,null,null,null,null,null,null,null,null,null,null,null,null,null,null,null,null,null,null,null,null,null,null,null,null,null,null,null,null,null,null,null,null,null,null,null,null,null,null,null,null,null,null,null,null,null,null,null,null,null,null,null,null,null,null,null,null,null,null,null,null,null,null,null,null,null,null,null,null,null,null,null,null,null,null,null,null,null,null,null,null,null,null,null,null,null,null,null,null,null,null,null,null,null,null,null,null,null,null,null,null,null,null,null,null,null,null,null,null,null,null,null,null,null,null,null,null,null,null,null,null,null,null,null,null,null,null,null,null,null,null,null,null,null,null,null,null,null,null,null,null,null,null,null,null,null,null,null,null,null,null,null,null,null,null,null,null,null,null,null,null,null,null,null,null,null,null,null,null,null,null,null,null,null,null,null,null,null,null,null,null,null,null,null,null,null,null,null,null,null,null,null,null,null,null,null,null,null,null,null,null,null,null,null,null,null,null,null,null,null,null,null,null,null,null,null,null,null,null,null,null,null,null,null,null,null,null,null,null,null,null,null,null,null,null,null,null,null,null,null,null,null,null,null,null,null,null,null,null,null,null,null,null,null,null,null,null,null,null,null,null,null,null,null,null,null,null,null,null,null,null,null,null,null,null,null,null,null,null,null,null,null,null,null,null,null,null,null,null,null,null,null,null,null,null,null,null,null,null,null,null,null,null,null,null,null,null,null,null,null,null,null,null,null,null,null,null,null,null,null,null,null,null,null,null,null,null,null,null,null,null,null,null,null,null,null,null,null,null,null,null,null,null,null,null,null,null,null,null,null,null,null,null,null,null,null,null,null,null,null,null,null,null,null,null,null,null,null,null,null,null,null,null,null,null,null,null,null,null,null,null,null,null,null,null,null,null,null,null,null,null,null,null,null,null,null,null,null,null,null,null,null,null,null,null,null,null,null,null,null,null,null,null,null,null,null,null,null,null,null,null,null,null,null,null,null,null,null,null,null,null,null,null,null,null,null,null,null,null,null,null,null,null,null,null,null,null,null,null,null,null,null,null,null,null,null,null,null,null,null,null,null,null,null,null,null,null,null,null,null,null,null,null,null,null,null,null,null,null,null,null,null,null,null,null,null,null,null,null,null,null,null,null,null,null,null,null,null,null,null,null,null,null,null,null,null,null,null,null,null,null,null,null,null,null,null,null,null,null,null,null,null,null,null,null,null,null,null,null,null,null,null,null,null,null,null,null,null,null,null,null,null,null,null,null,null,null,null,null,null,null,null,null,null,null,null,null,null,null,null,null,null,null,null,null,null,null,null,null,null,null,null,null,null,null,null,null,null,null,null,null,null,null,null,null,null,null,null,null,null,null,null,null,null,null,null,null,null,null,null,null,null,null,null,null,null,null,null,null,null,null,null,null,null,null,null,null,null,null,null,null,null,null,null,null,null,null,null,null,null,null,null,null,null,null,null,null,null,null,null,null,null,null,null,null,null,null,null,null,null,null,null,null,null,null,null,null,null,null,null,null,null,null,null,null,null,null,null,null,null,null,null,null,null,null,null,null,null,null,null,null,null,null,null,null,null,null,null,null,null,null,null,null,null,null,null,null,null,null,null,null,null,null,null,null,null,null,null,null,null,null,null,null,null,null,null,null,null,null,null,null,null,null,null,null,null,null,null,null,null,null,null,null,null,null,null,null,null,null,null,null,null,null,null,null,null,null,null,null,null,null,null,null,null,null,null,null,null,null,null,null,null,null,null,null,null,null,null,null,null,null,null,null,null,null,null,null,null,null,null,null,null,null,null,null,null,null,null,null,null,null,null,null,null,null,null,null,null,null,null,null,null,null,null,null,null,null,null,null,null,null,null,null,null,null,null,null,null,null,null,null,null,null,null,null,null,null,null,null,null,null,null,null,null,null,null,null,null,null,null,null,null,null,null,null,null,null,null,null,null,null,null,null,null,null,null,null,null,null,null,null,null,null,null,null,null,null,null,null,null,null,null,null,null,null,null,null,null,null,null,null,null,null,null,null,null,null,null,null,null,null,null,null,null,null,null,null,null,null,null,null,null,null,null,null,null,null,null,null,null,null,null,null,null,null,null,null,null,null,null,null,null,null,null,null,null,null,null,null,null,null,null,null,null,null,null,null,null,null,null,null,null,null,null,null,null,null,null,null,null,null,null,null,null,null,null,null,null,null,null,null,null,null,null,null,null,null,null,null,null,null,null,null,null,null,null,null,null,null,null,null,null,null,null,null,null,null,null,null,null,null,null,null,null,null,null,null,null,null,null,null,null,null,null,null,null,null,null,null,null,null,null,null,null,null,null,null,null,null,null,null,null,null,null,null,null,null,null,null,null,null,null,null,null,null,null,null,null,null,null,null,null,null,null,null,null,null,null,null,null,null,null,null,null,null,null,null,null,null,null,null,null,null,null,null,null,null,null,null,null,null,null,null,null,null,null,null,null,null,null,null,null,null,null,null,null,null,null,null,null,null,null,null,null,null,null,null,null,null,null,null,null,null,null,null,null,null,null,null,null,null,null,null,null,null,null,null,null,null,null,null,null,null,null,null,null,null,null,null],\"x_values\":[475,4168,7000,6000,8905,1840,0,5000,5000,7000,0,0,3723,7348,4000,0,11884,15614,2026,5171,6000,5000,1277,2007,0,8450,3000,4000,7000,7000,4000,0,3000,1568,0,0,5403,0,0,8000,4000,11508,11288,0,14470,6000,5000,4000,3000,0,7601,4362,0,17004,5000,497,15000,5452,15163,0,1879,3000,7405,0,1934,16841,3825,12000,3000,12406,0,9000,14689,0,0,7000,8432,0,5751,0,7777,0,5000,8193,4000,9676,4503,0,5000,0,801,925,0,0,4000,0,0,4000,5000,0,0,0,6733,0,0,6000,3000,4000,2524,3000,0,7000,0,3000,8000,0,0,4000,0,4039,11675,4415,4775,1534,1208,0,0,5959,0,749,1186,9048,8000,560,4000,3013,4389,0,2709,9139,8000,0,7980,9000,5268,0,465,0,5406,0,4000,3136,4000,3417,8851,0,7000,7000,6380,3587,7014,0,8164,5000,3000,12264,853,4377,11000,0,4000,0,8774,5312,3000,4000,0,3232,0,6000,15000,3000,7000,0,9093,13554,3442,0,1231,0,1196,13937,3000,10129,9000,6844,169,4000,5000,5000,8000,8709,13000,0,3000,6000,6000,6247,576,6000,7205,3000,6000,4168,0,6000,6000,0,0,6000,2000,1952,0,5006,4810,3000,7000,8000,1465,2000,4493,8243,4938,0,4000,6000,0,241,9581,14119,2599,5000,0,10000,0,5000,0,3408,7745,0,6000,0,0,8391,9000,5000,17000,4316,4000,0,4927,15080,0,3257,6000,6008,0,0,0,3000,7000,6000,6963,9000,14000,180,0,12000,7000,2693,5000,4000,4000,3000,0,4000,3000,0,14160,9440,5694,5061,6034,0,5306,3018,2055,5012,0,4000,5000,1888,4298,6871,944,0,4000,3000,8865,1239,3000,23933,0,11000,8909,4000,3160,3000,4162,8000,2888,6000,0,0,2740,3520,0,594,12424,4000,15066,5902,4000,5000,17001,3194,0,18184,11000,0,7000,0,2643,3000,4000,8142,5000,2625,0,4000,15986,0,0,4533,3713,7000,14000,7901,0,4719,0,4000,4000,7438,5097,4000,3419,2356,0,6318,0,7286,4490,1865,1470,0,4000,8000,7161,4000,7000,2943,0,5836,4082,5994,3000,359,9400,0,0,11000,2932,3000,0,7817,7319,0,2172,1959,3042,10574,10000,9621,0,0,3497,4220,3120,3739,4000,3671,4661,6504,8539,0,10000,2804,5137,2613,944,9000,11000,10000,7000,1754,18012,5000,6000,0,2780,4956,4000,5000,0,0,4156,5000,0,3000,0,4205,957,4000,5000,1459,0,0,0,13946,4000,1390,759,7149,3000,1022,7340,7000,4000,4000,115,0,3000,0,0,10000,8016,9485,10000,0,8717,0,0,4000,6000,10000,5000,0,0,3000,3269,1380,1484,6000,7802,3000,7000,6000,0,12279,7000,6001,15084,18601,1817,5000,7129,4000,0,2702,5000,0,14000,1396,333,3140,2185,3000,11000,1336,1674,4000,8226,6345,0,4000,6000,4000,0,6248,3000,0,1377,4000,5296,3736,5185,0,0,28314,3000,3000,389,3434,3000,7000,3754,1515,13000,4049,0,10706,5000,254,4000,0,5000,4000,1677,4000,7000,6000,9000,8010,0,0,0,0,1173,2358,4000,6000,3000,0,3883,7000,0,5000,3000,10000,7696,0,0,413,6000,5000,3000,0,0,3247,6382,3542,2154,0,3000,0,0,4000,2000,0,12000,0,4000,1698,1673,5018,4000,4000,7000,5000,3000,1054,0,6621,8000,11218,0,6000,3000,0,0,1168,4171,16406,5996,7806,6000,12911,0,0,0,0,14139,10000,9000,9058,2670,9452,0,904,6000,3346,654,3735,0,4318,0,6073,3854,0,4000,0,7983,0,0,2518,0,0,137,2930,7230,698,13000,6056,0,0,6000,8000,0,4000,3000,3096,3000,11969,4000,0,0,4650,1516,0,2606,0,1907,7000,1088,7863,0,0,4000,5000,4354,6000,2157,7000,0,4000,5000,5000,13496,1917,3000,7000,0,3000,8000,0,8000,7000,1940,4000,1508,1262,3000,9000,4000,0,5000,5434,5000,4000,912,350,5851,7974,505,6000,6000,0,0,0,0,4723,0,6000,5298,0,4944,5000,9000,0,5975,7000,0,16000,0,7002,5789,5000,7000,4613,5246,3000,11000,3553,3000,9050,0,0,5000,0,5000,0,2133,11000,6000,4000,0,986,7000,0,6000,6000,0,0,5788,3000,4075,5000,5000,7000,0,0,10000,5067,675,0,11939,5000,93,7663,6000,0,7000,3382,0,4000,5000,6000,0,0,5000,8004,0,6000,4000,4000,9000,0,7000,0,7534,4455,9255,0,9036,0,6000,746,0,5000,0,0,3066,17000,0,0,0,2017,8585,3000,0,4000,5356,3000,1651,12000,0,4000,1163,2095,6000,0,0,3644,3528,0,4000,0,3000,7000,0,0,0,0,0,0,2041,4000,8593,4000,0,5000,9000,0,3000,1475,0,1611,8000,3293,14000,0,5471,4967,4000,5000,5000,5000,11000,1446,8000,10000,0,5000,4000,567,6348,961,0,0,4809,6000,10544,10000,4540,0,6437,9000,0,0,5000,0,1779,3000,2536,2371,0,366,1785,0,3000,10231,0,12000,4000,0,5000,10000,0,3000,2016,2382,3687,11172,8000,3000,4000,5383,5801,5000,0,3000,0,2399,4146,0,0,10000,19000,0,5000,2529,3000,1876,7377,3000,2681,7000,3440,1041,0,4000,0,0,0,0,6000,1331,1811,141,0,6476,10844,15000,6000,0,0,618,10000,0,4338,0,4000,2769,3000,7342,4946,4000,4000,3898,10000,0,0,9000,0,1630,14000,0,11000,13738,2252,777,0,0,4951,0,0,3000,0,7000,2412,2228,0,4000,0,0,3000,4000,5421,0,4000,6000,0,573,4475,4469,0,18000,10000,4000,6000,2932,11784,7000,7000,4000,3000,3000,6000,1642,0,0,6452,9000,0,852,0,0,7000,0,7000,0,3000,0,3564,5000,3000,4000,4000,820,0,6000,0,8973,3000,0,1737,6000,2837,6000,0,271,9387,0,4000,0,5264,0,0,3000,4000,0,4000,0,0,0,0,1833,3000,1765,2064,6000,1332,0,0,542,0,6000,4000,6877,17804,94,2050,8844,9000,609,3000,7000,12911,6000,6520,3000,0,3000,6546,0,7000,435,3000,4472,2466,0,3728,6219,0,5000,0,0,5000,0,7000,5173,0,3000,0,13000,6000,5000,4812,5000,8000,5000,0,0,0,518,0,6320,3419,2000,0,12598,2000,6522,7000,0,4000,14946,4000,0,8000,0,4000,3000,0,3837,6821,3000,4000,2194,1455,10736,852,5314,6389,5000,6979,0,6654,3541,0,0,7000,0,3000,5458,4801,3000,10000,9000,4000,3000,6000,12931,11000,4000,13336,4000,6000,9000,6137,8000,1735,0,5000,21234,0,3000,0,10920,0,0,7000,0,2975,3000,0,11000,9036,5000,1116,0,634,0,8603,4150,7804,3000,702,0,0,4000,380,0,5053,5000,0,4749,10000,4000,0,4542,1274,12000,4000,3000,0,4732,5245,961,11277,0,7032,0,5702,5680,1943,1651,5025,0,6000,4000,0,2586,275,0,3000,2905,5709,226,1712,15831,0,6914,3694,3000,4642,3503,11801,9000,4000,3000,6000,8000,0,4000,9000,0,0,5000,8881,672,529,0,2404,0,0,3000,4000,0,5000,0,0,0,2504,2498,0,3000,7000,5997,0,4000,0,2275,0,0,0,2694,5952,7000,6851,4000,965,0,3757,3000,3000,0,0,6456,2668,0,10000,1332,0,4549,3292,1059,7000,3644,3000,3000,4000,9000,2779,8000,8278,262,10000,0,3000,0,7000,0,5567,2768,3000,6215,6317,5718,7000,22006,9000,0,7,5541,2497,0,0,9000,117,14151,3623,842,3550,1799,8494,3177,5000,2966,5041,0,5537,10,5049,16518,0,5000,5000,739,3882,2000,6000,5000,2544,2207,6000,3000,1525,9959,0,8000,6594,8000,6000,9000,0,0,6025,2000,3000,5000,507,11000,11892,10042,8000,11102,5497,5536,6000,0,8399,0,3044,2381,0,0,0,7153,3000,13000,345,0,0,0,18464,0,5000,5376,4000,7287,1787,5245,0,2944,3000,6595,92,0,0,3944,8136,0,0,11757,0,11236,5556,7000,0,7000,0,4000,10478,2962,0,3237,1538,0,0,5220,0,0,7000,0,2904,515,6052,902,12987,4437,4000,0,7000,3000,3825,4000,3900,7765,0,5954,4458,3498,7000,2606,0,598,4000,5857,3000,8000,13000,8000,7274,3000,0,0,5000,5853,13980,4000,0,468,5000,415,0,6000,9000,0,940,0,2649,5135,7898,7776,5000,6000,2868,6000,5000,0,0,1006,0,5649,7000,328,3000,4000,4000,6000,0,6000,0,13347,13000,5129,0,0,0,8000,1439,0,0,0,0,0,0,6201,16696,8908,6000,2000,3253,0,7000,0,6000,5539,15553,6089,7000,0,16164,8703,2049,4000,5000,0,0,3923,13377,5000,3000,4501,3667,0,5780,3000,5000,0,4545,2794,0,2595,0,3189,2713,777,6000,10166,0,3000,7935,6000,7000,0,4607,5000,733,3047,0,3361,155,0,5000,0,3000,0,11000,4000,3000,9000,3285,0,6000,8922,7000,6000,18032,11000,1520,8339,0,1494,0,0,6798,519,0,0,0,4000,6000,9575,5000,2698,3081,0,8000,6000,0,3444,3549,6000,10705,2275,0,1950,4051,0,0,263,7000,672,0,5000,7000,0,5000,1843,2523,2457,0,14000,0,21441,2965,5000,8689,7000,5000,12000,0,6000,0,0,12514,2057,7365,6429,5000,0,0,3000,5000,0,0,3334,4487,7702,0,1197,6000,5000,0,1696,3000,5000,9780,5494,9000,3000,5330,9000,3678,7157,4000,7570,5554,2648,3000,6000,0,7933,2416,0,0,4920,3197,5000,0,0,6000,0,9370,0,3000,0,0,187,8355,3000,0,13077,0,4000,10000,5000,4206,5000,0,0,2451,4000,11000,0,3746,2723,21212,15188,1021,4000,3000,0,6000,6000,0,3000,3000,4554,2504,4944,7000,8000,0,5000,12848,4000,551,6000,5706,5000,3934,3906,9428,726,11368,3000,0,0,5000,0,11509,0,3297,2329,3000,4916,2724,4000,0,5000,6000,10189,3000,6000,0,686,0,5000,0,0,7448,1833,2127,4724,6349,2185,0,0,0,5000,8438,4000,14000,9000,7000,1850,8760,5073,6000,4836,5000,3000,0,4000,0,0,54,4774,6000,0,0,1177,10330,0,0,4000,9775,160,4000,5000,4000,1983,11007,0,0,0,0,10018,6000,5211,4000,6000,0,0,4000,3443,1616,0,0,5000,5749,0,267,4000,0,2177,20000,4516,4000,3622,7000,14121,0,0,4000,4842,6694,6000,0,3000,5688,8158,0,0,0,11726,7293,5354,0,0,5000,0,4187,0,0,342,5000,531,4000,16300,6000,7587,0,4877,17018,5000,4000,7622,4000,0,11000,0,0,21301,16000,6298,0,6573,1084,7429,5819,1579,0,11154,1494,0,8100,6438,0,0,0,12898,7000,3234,0,8435,7761,2760,0,0,2274,4000,9000,19494,0,4000,840,12678,4522,0,2489,13302,3932,0,9714,0,3000,5000,10600,0,6358,2982,3605,11830,4823,8000,1814,469,0,5000,1871,0,3000,332,4000,0,0,10537,4000,5000,4000],\"y_values\":[41,11,28,45,36,95,41,18,21,41,16,66,15,3,3,15,13,72,12,54,2,31,6,29,31,84,88,11,17,9,82,100,8,41,3,28,16,26,13,28,9,24,23,1,52,9,23,29,11,30,15,83,7,9,13,28,28,20,2,20,5,100,3,100,9,9,11,73,19,5,20,47,9,11,4,21,21,23,12,9,97,18,7,15,8,75,67,23,47,16,55,100,9,49,3,44,33,6,9,7,18,75,100,7,3,5,20,29,96,21,6,74,20,31,31,16,18,23,42,86,38,90,7,40,1,1,59,11,31,47,36,52,100,100,100,40,65,6,7,100,100,6,24,14,6,5,2,10,62,100,100,3,100,15,9,12,49,1,1,33,92,7,3,84,34,33,26,100,2,9,11,13,26,6,51,18,23,17,32,9,7,3,37,17,69,7,65,33,2,80,26,40,24,39,85,17,22,10,16,47,51,22,15,12,100,16,17,15,37,6,5,83,34,26,7,100,30,9,54,100,12,7,16,1,4,6,21,32,10,100,29,23,25,8,2,39,20,48,6,68,6,18,42,8,4,15,9,21,21,7,12,36,26,100,10,14,10,7,31,8,69,14,21,16,97,27,2,46,35,24,65,16,12,7,76,11,94,14,12,14,11,100,80,6,4,4,7,70,20,12,41,46,5,4,57,17,100,7,50,17,8,3,11,37,5,21,10,19,10,4,20,25,20,18,55,9,10,12,1,51,100,28,7,14,34,11,37,7,3,8,28,7,81,52,35,56,76,23,32,38,5,9,18,17,7,6,48,4,20,16,28,42,13,31,5,13,39,100,26,6,21,9,100,66,6,12,55,12,32,14,100,90,8,9,10,44,28,16,18,14,26,6,61,23,49,100,37,19,14,27,13,48,42,17,16,100,6,16,2,42,70,29,3,85,23,39,53,16,32,12,22,19,26,11,21,36,42,12,4,54,54,33,22,2,100,16,20,84,4,1,21,65,18,13,45,3,7,32,5,48,13,9,4,100,9,44,17,25,23,2,13,4,8,47,8,27,10,17,16,72,31,7,36,21,87,16,10,100,7,13,1,35,30,13,20,39,22,23,30,6,49,34,7,80,9,13,25,2,21,33,6,12,8,21,8,16,9,25,6,44,41,11,18,2,11,11,58,78,20,5,16,11,27,13,93,67,31,21,18,5,30,42,11,38,6,11,2,16,71,16,19,41,72,13,28,13,20,64,12,30,22,6,14,100,41,16,4,26,100,100,25,22,9,15,18,19,13,16,42,30,45,16,3,6,10,58,7,46,100,17,2,45,6,12,5,14,45,9,2,88,15,23,9,49,7,14,10,11,1,36,29,74,7,100,100,100,16,6,11,6,14,21,11,23,15,18,6,40,15,100,16,56,3,3,6,50,63,28,4,2,8,30,35,20,9,4,28,5,13,8,55,7,5,31,6,34,13,13,76,7,41,2,24,21,72,42,40,28,2,12,2,25,37,11,12,15,27,11,22,100,6,3,23,10,16,16,17,21,4,20,25,9,44,1,25,19,27,13,72,29,48,10,2,39,8,6,6,8,34,6,16,26,76,7,45,96,67,37,21,9,7,49,100,79,13,58,30,10,47,100,18,32,6,61,13,9,28,73,29,15,6,24,76,29,12,10,6,8,8,14,7,62,17,15,34,45,27,58,7,7,7,34,12,10,46,11,40,40,16,76,13,35,14,48,22,21,38,5,11,51,8,20,15,38,11,9,47,19,6,16,13,9,59,57,19,32,32,12,3,11,31,18,3,12,3,12,21,12,12,49,20,21,45,15,79,54,9,34,7,11,41,10,36,29,86,85,17,3,100,23,30,20,20,22,21,23,37,22,37,36,50,7,3,90,35,36,3,4,12,18,33,22,26,16,63,22,100,3,5,20,78,3,25,5,60,35,54,33,100,100,77,32,7,6,15,4,14,20,17,10,100,65,52,40,38,15,16,14,5,67,100,1,11,32,7,14,66,19,5,1,83,20,21,3,45,33,16,45,14,26,21,14,39,21,18,18,23,100,46,32,3,10,11,4,84,7,44,68,72,15,42,7,20,38,42,44,6,4,20,73,3,60,23,54,2,100,5,21,100,15,100,11,22,24,59,14,50,39,7,9,43,53,5,14,88,46,3,6,35,79,22,25,65,25,6,22,65,7,19,57,10,9,2,14,80,43,92,18,8,7,51,15,4,40,70,27,39,35,4,29,34,26,100,61,25,14,21,14,5,100,23,48,12,23,17,100,11,42,52,10,46,76,19,1,11,45,9,48,1,40,10,15,4,23,29,5,3,9,4,10,10,18,20,65,100,12,42,18,20,64,24,29,16,100,5,8,33,4,17,62,15,13,25,18,79,51,1,20,19,19,8,8,100,2,4,13,34,79,9,8,63,60,28,34,10,41,9,31,40,38,44,1,12,34,100,9,25,3,30,6,73,43,18,31,51,9,100,62,58,49,8,22,16,36,24,13,100,21,11,2,49,35,100,13,22,5,43,7,48,10,38,13,15,5,15,7,14,25,100,5,100,11,18,20,41,65,14,76,12,15,65,63,4,4,8,13,21,100,15,12,100,34,26,25,2,9,36,33,15,4,10,20,13,93,1,46,1,16,4,51,29,12,15,26,7,15,4,34,32,34,26,37,12,5,32,15,22,46,100,7,94,38,22,54,59,26,23,8,55,33,16,27,60,20,1,57,28,3,33,5,31,42,100,1,16,7,17,16,14,8,17,19,29,10,8,25,11,3,14,17,2,10,16,100,4,6,100,100,100,9,13,37,65,38,9,22,3,36,16,100,5,24,13,7,43,32,7,9,34,30,57,16,42,6,15,29,21,38,2,8,15,38,43,35,12,88,11,29,51,6,40,23,5,2,12,13,16,6,100,7,8,53,13,46,4,3,27,45,28,84,98,85,24,12,25,38,7,11,20,28,19,3,22,2,22,41,22,38,31,11,18,50,38,20,53,14,5,11,27,45,91,45,27,5,27,5,3,6,20,14,45,20,8,12,33,31,19,4,11,8,86,21,19,17,100,75,33,38,28,42,19,100,15,7,33,17,48,4,100,10,73,47,20,35,50,31,12,3,13,15,21,19,44,25,17,32,14,11,73,22,16,6,47,1,7,32,24,35,56,16,9,64,86,6,13,28,7,100,13,21,8,66,51,41,8,5,37,20,67,7,13,5,8,11,40,35,40,26,8,14,22,6,3,10,1,14,3,27,24,6,2,58,2,82,15,24,72,25,43,19,32,16,72,57,11,4,9,80,16,7,95,9,8,20,7,5,8,3,7,19,2,10,48,24,10,22,39,94,23,18,21,42,100,9,2,13,8,38,16,9,8,21,33,26,5,15,50,8,18,36,4,24,17,19,22,60,5,19,19,10,40,37,45,10,19,32,22,32,9,0,42,11,13,67,22,41,8,98,3,39,29,18,100,19,40,39,6,5,27,10,28,21,24,99,100,50,7,41,12,23,77,100,40,23,7,24,38,12,25,6,14,49,16,15,71,21,13,60,5,10,20,19,33,12,7,66,3,3,2,43,6,7,42,17,12,29,5,20,11,10,46,10,100,6,41,7,9,9,9,27,10,12,7,18,39,44,31,100,26,41,17,32,7,25,11,77,15,13,21,6,11,4,73,43,37,19,14,63,29,13,45,100,30,22,25,7,20,12,11,30,25,5,19,21,100,14,34,22,18,15,9,6,27,22,16,44,51,11,6,4,79,46,17,20,12,15,30,38,8,23,9,15,4,26,38,24,13,9,12,97,33,35,10,63,19,55,36,21,2,100,14,2,27,15,10,25,84,28,100,37,13,27,5,31,100,8,13,5,94,5,39,19,7,15,5,9,46,10,10,27,20,26,19,8,23,12,26,46,92,12,53,97,44,100,3,3,29,100,12,62,25,3,21,8,2,30,100,55,68,12,21,75,6,100,47,11,48,10,11,18,33,4,13,16,7,15,35,61,5,16,30,9,37,5,7,30,44,40,3,15,15,12,35,22,37,49,55,5,15,7,29,72,13,20,100,6,76,2,35,22,31,16,2,100,7,7,9,30,12,28,13,22,60,17,8,12,58,92,28,26,12,9,28,37,27,17,21,62,43,47,100,5,9,42,4,31,9,12,44,46,100,85,18,3,73,18,9,9,9,78,26,5,39,5,9,19,7,23,19,8,2,8,18,10,28,21,3,64,9,80,13,8,36,100,3,100,14,73,20,9,11,5,17,59,7,9,26,3,80,24,44,100,82,23,5,11,19,44,41,19,33,27,30,9,15,22,67,28,20,63,5,17,44,41,2,16,38,21,9,37,20,12,11,36,7,5,32,13,56,94,38,3,5,53,57,5,24,5,8,20,11,44,35,5,18,21,9,4,22,10,63,18,30,7,6,10,15,36,10,10,45,50,24,4,84,100,61,14,5,10,35,11,15,100,11,20,33,93,27,29,12,4,65,45,5]}},\"id\":\"a0cb3b07-946d-4e35-84f8-8db1256d4002\",\"type\":\"ColumnDataSource\"},{\"attributes\":{\"callback\":null,\"end\":31145.4,\"start\":-2831.4},\"id\":\"0b4779a9-5bb4-4379-b71c-2ca050301139\",\"type\":\"Range1d\"},{\"attributes\":{\"plot\":null,\"text\":null},\"id\":\"842d888c-f165-4a7a-96f6-21c3f64fb57c\",\"type\":\"Title\"},{\"attributes\":{\"axis_label\":\"balance\",\"formatter\":{\"id\":\"6eb2bbce-a217-4a34-a13c-95b5f7829c57\",\"type\":\"BasicTickFormatter\"},\"plot\":{\"id\":\"36b13273-9d90-428c-81f1-b0572096d65a\",\"subtype\":\"Chart\",\"type\":\"Plot\"},\"ticker\":{\"id\":\"80765666-c5d5-4d91-8494-9c303fbccec5\",\"type\":\"BasicTicker\"}},\"id\":\"17216161-2a18-4b2e-98ad-5f1970943d87\",\"type\":\"LinearAxis\"},{\"attributes\":{\"data_source\":{\"id\":\"a0cb3b07-946d-4e35-84f8-8db1256d4002\",\"type\":\"ColumnDataSource\"},\"glyph\":{\"id\":\"a08f2a68-98aa-4802-a189-c776eb246907\",\"type\":\"Circle\"},\"hover_glyph\":null,\"nonselection_glyph\":null,\"selection_glyph\":null},\"id\":\"96778fd5-b53f-49ee-8557-c65082b4d48d\",\"type\":\"GlyphRenderer\"},{\"attributes\":{\"location\":\"top_left\",\"plot\":{\"id\":\"36b13273-9d90-428c-81f1-b0572096d65a\",\"subtype\":\"Chart\",\"type\":\"Plot\"}},\"id\":\"dc9d4d08-316e-4c53-adf0-c8437ac40ae2\",\"type\":\"Legend\"},{\"attributes\":{},\"id\":\"9d6ffddb-9533-413e-8919-6f8182adcedf\",\"type\":\"BasicTicker\"},{\"attributes\":{\"plot\":{\"id\":\"36b13273-9d90-428c-81f1-b0572096d65a\",\"subtype\":\"Chart\",\"type\":\"Plot\"}},\"id\":\"a46db012-1d26-474c-9f23-37ac439f8489\",\"type\":\"ResetTool\"},{\"attributes\":{},\"id\":\"17ea00fc-1658-417d-8d61-46ddadcc4a00\",\"type\":\"ToolEvents\"},{\"attributes\":{},\"id\":\"6eb2bbce-a217-4a34-a13c-95b5f7829c57\",\"type\":\"BasicTickFormatter\"},{\"attributes\":{},\"id\":\"7999d632-6fb7-43e1-9d42-43c0d2a80ef4\",\"type\":\"BasicTickFormatter\"},{\"attributes\":{\"bottom_units\":\"screen\",\"fill_alpha\":{\"value\":0.5},\"fill_color\":{\"value\":\"lightgrey\"},\"left_units\":\"screen\",\"level\":\"overlay\",\"line_alpha\":{\"value\":1.0},\"line_color\":{\"value\":\"black\"},\"line_dash\":[4,4],\"line_width\":{\"value\":2},\"plot\":null,\"render_mode\":\"css\",\"right_units\":\"screen\",\"top_units\":\"screen\"},\"id\":\"c9bb7626-93a7-4ddf-946b-058544506196\",\"type\":\"BoxAnnotation\"},{\"attributes\":{\"active_drag\":\"auto\",\"active_scroll\":\"auto\",\"active_tap\":\"auto\",\"tools\":[{\"id\":\"4d593cff-f7cb-4ac3-9bf6-203caa553f19\",\"type\":\"PanTool\"},{\"id\":\"ed3c0cbd-056d-47f1-8f5f-2a8607e0b815\",\"type\":\"WheelZoomTool\"},{\"id\":\"e5bd7e5b-b66e-4c20-8eb1-7766037d3e34\",\"type\":\"BoxZoomTool\"},{\"id\":\"56740612-45b9-490b-8fc7-604611e488f7\",\"type\":\"SaveTool\"},{\"id\":\"a46db012-1d26-474c-9f23-37ac439f8489\",\"type\":\"ResetTool\"},{\"id\":\"0d377789-1c9e-4441-9453-cf5f795bd7c6\",\"type\":\"HelpTool\"}]},\"id\":\"b6346031-3168-4cf7-af71-9ee314eaba32\",\"type\":\"Toolbar\"},{\"attributes\":{\"callback\":null,\"end\":110.0,\"start\":-10.0},\"id\":\"2646f9de-b5fc-4c52-b531-dbd5846b07e2\",\"type\":\"Range1d\"},{\"attributes\":{\"plot\":{\"id\":\"36b13273-9d90-428c-81f1-b0572096d65a\",\"subtype\":\"Chart\",\"type\":\"Plot\"},\"ticker\":{\"id\":\"80765666-c5d5-4d91-8494-9c303fbccec5\",\"type\":\"BasicTicker\"}},\"id\":\"70fd43b8-c737-49fb-8ed1-daf6a98f4f5e\",\"type\":\"Grid\"},{\"attributes\":{\"plot\":{\"id\":\"36b13273-9d90-428c-81f1-b0572096d65a\",\"subtype\":\"Chart\",\"type\":\"Plot\"}},\"id\":\"56740612-45b9-490b-8fc7-604611e488f7\",\"type\":\"SaveTool\"},{\"attributes\":{\"plot\":{\"id\":\"36b13273-9d90-428c-81f1-b0572096d65a\",\"subtype\":\"Chart\",\"type\":\"Plot\"}},\"id\":\"0d377789-1c9e-4441-9453-cf5f795bd7c6\",\"type\":\"HelpTool\"},{\"attributes\":{\"below\":[{\"id\":\"17216161-2a18-4b2e-98ad-5f1970943d87\",\"type\":\"LinearAxis\"}],\"left\":[{\"id\":\"b96f5c83-ad9b-4b7b-a1c0-eae4a159104b\",\"type\":\"LinearAxis\"}],\"renderers\":[{\"id\":\"c9bb7626-93a7-4ddf-946b-058544506196\",\"type\":\"BoxAnnotation\"},{\"id\":\"96778fd5-b53f-49ee-8557-c65082b4d48d\",\"type\":\"GlyphRenderer\"},{\"id\":\"dc9d4d08-316e-4c53-adf0-c8437ac40ae2\",\"type\":\"Legend\"},{\"id\":\"17216161-2a18-4b2e-98ad-5f1970943d87\",\"type\":\"LinearAxis\"},{\"id\":\"b96f5c83-ad9b-4b7b-a1c0-eae4a159104b\",\"type\":\"LinearAxis\"},{\"id\":\"70fd43b8-c737-49fb-8ed1-daf6a98f4f5e\",\"type\":\"Grid\"},{\"id\":\"61e34e05-a7c0-45f2-8914-748d1d8c7e57\",\"type\":\"Grid\"}],\"title\":{\"id\":\"842d888c-f165-4a7a-96f6-21c3f64fb57c\",\"type\":\"Title\"},\"tool_events\":{\"id\":\"17ea00fc-1658-417d-8d61-46ddadcc4a00\",\"type\":\"ToolEvents\"},\"toolbar\":{\"id\":\"b6346031-3168-4cf7-af71-9ee314eaba32\",\"type\":\"Toolbar\"},\"x_mapper_type\":\"auto\",\"x_range\":{\"id\":\"0b4779a9-5bb4-4379-b71c-2ca050301139\",\"type\":\"Range1d\"},\"y_mapper_type\":\"auto\",\"y_range\":{\"id\":\"2646f9de-b5fc-4c52-b531-dbd5846b07e2\",\"type\":\"Range1d\"}},\"id\":\"36b13273-9d90-428c-81f1-b0572096d65a\",\"subtype\":\"Chart\",\"type\":\"Plot\"},{\"attributes\":{\"axis_label\":\"numTrans\",\"formatter\":{\"id\":\"7999d632-6fb7-43e1-9d42-43c0d2a80ef4\",\"type\":\"BasicTickFormatter\"},\"plot\":{\"id\":\"36b13273-9d90-428c-81f1-b0572096d65a\",\"subtype\":\"Chart\",\"type\":\"Plot\"},\"ticker\":{\"id\":\"9d6ffddb-9533-413e-8919-6f8182adcedf\",\"type\":\"BasicTicker\"}},\"id\":\"b96f5c83-ad9b-4b7b-a1c0-eae4a159104b\",\"type\":\"LinearAxis\"},{\"attributes\":{\"fill_alpha\":{\"value\":0.7},\"fill_color\":{\"value\":\"#f22c40\"},\"line_color\":{\"value\":\"#f22c40\"},\"size\":{\"units\":\"screen\",\"value\":8},\"x\":{\"field\":\"x_values\"},\"y\":{\"field\":\"y_values\"}},\"id\":\"a08f2a68-98aa-4802-a189-c776eb246907\",\"type\":\"Circle\"},{\"attributes\":{\"plot\":{\"id\":\"36b13273-9d90-428c-81f1-b0572096d65a\",\"subtype\":\"Chart\",\"type\":\"Plot\"}},\"id\":\"ed3c0cbd-056d-47f1-8f5f-2a8607e0b815\",\"type\":\"WheelZoomTool\"},{\"attributes\":{},\"id\":\"80765666-c5d5-4d91-8494-9c303fbccec5\",\"type\":\"BasicTicker\"},{\"attributes\":{\"plot\":{\"id\":\"36b13273-9d90-428c-81f1-b0572096d65a\",\"subtype\":\"Chart\",\"type\":\"Plot\"}},\"id\":\"4d593cff-f7cb-4ac3-9bf6-203caa553f19\",\"type\":\"PanTool\"},{\"attributes\":{\"overlay\":{\"id\":\"c9bb7626-93a7-4ddf-946b-058544506196\",\"type\":\"BoxAnnotation\"},\"plot\":{\"id\":\"36b13273-9d90-428c-81f1-b0572096d65a\",\"subtype\":\"Chart\",\"type\":\"Plot\"}},\"id\":\"e5bd7e5b-b66e-4c20-8eb1-7766037d3e34\",\"type\":\"BoxZoomTool\"}],\"root_ids\":[\"36b13273-9d90-428c-81f1-b0572096d65a\"]},\"title\":\"Bokeh Application\",\"version\":\"0.12.2\"}};\n",
       "            var render_items = [{\"docid\":\"02ce4cb8-c9b9-4799-a852-40f033c8e790\",\"elementid\":\"af3ed689-e5c7-4912-83fb-fcba67279ebb\",\"modelid\":\"36b13273-9d90-428c-81f1-b0572096d65a\"}];\n",
       "            \n",
       "            Bokeh.embed.embed_items(docs_json, render_items);\n",
       "        });\n",
       "      },\n",
       "      function(Bokeh) {\n",
       "      }\n",
       "    ];\n",
       "  \n",
       "    function run_inline_js() {\n",
       "      \n",
       "      if ((window.Bokeh !== undefined) || (force === \"1\")) {\n",
       "        for (var i = 0; i < inline_js.length; i++) {\n",
       "          inline_js[i](window.Bokeh);\n",
       "        }if (force === \"1\") {\n",
       "          display_loaded();\n",
       "        }} else if (Date.now() < window._bokeh_timeout) {\n",
       "        setTimeout(run_inline_js, 100);\n",
       "      } else if (!window._bokeh_failed_load) {\n",
       "        console.log(\"Bokeh: BokehJS failed to load within specified timeout.\");\n",
       "        window._bokeh_failed_load = true;\n",
       "      } else if (!force) {\n",
       "        var cell = $(\"#af3ed689-e5c7-4912-83fb-fcba67279ebb\").parents('.cell').data().cell;\n",
       "        cell.output_area.append_execute_result(NB_LOAD_WARNING)\n",
       "      }\n",
       "  \n",
       "    }\n",
       "  \n",
       "    if (window._bokeh_is_loading === 0) {\n",
       "      console.log(\"Bokeh: BokehJS loaded, going straight to plotting\");\n",
       "      run_inline_js();\n",
       "    } else {\n",
       "      load_libs(js_urls, function() {\n",
       "        console.log(\"Bokeh: BokehJS plotting callback run at\", now());\n",
       "        run_inline_js();\n",
       "      });\n",
       "    }\n",
       "  }(this));\n",
       "</script>"
      ]
     },
     "metadata": {},
     "output_type": "display_data"
    }
   ],
   "source": [
    "data_multi = dict([\n",
    "    (elem, data_sample.select(elem).rdd.flatMap(lambda row: row).collect()) \n",
    "    for elem in numerical\n",
    "])\n",
    "\n",
    "sctr = chrt.Scatter(data_multi, x='balance', y='numTrans')\n",
    "\n",
    "chrt.show(sctr)"
   ]
  }
 ],
 "metadata": {
  "kernelspec": {
   "display_name": "Python [default]",
   "language": "python",
   "name": "python3"
  },
  "language_info": {
   "codemirror_mode": {
    "name": "ipython",
    "version": 3
   },
   "file_extension": ".py",
   "mimetype": "text/x-python",
   "name": "python",
   "nbconvert_exporter": "python",
   "pygments_lexer": "ipython3",
   "version": "3.5.2"
  }
 },
 "nbformat": 4,
 "nbformat_minor": 0
}
